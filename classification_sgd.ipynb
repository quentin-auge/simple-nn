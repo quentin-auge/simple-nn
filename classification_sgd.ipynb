{
 "cells": [
  {
   "cell_type": "markdown",
   "metadata": {
    "deletable": true,
    "editable": true
   },
   "source": [
    "# Perform classification using a single layer perceptron"
   ]
  },
  {
   "cell_type": "code",
   "execution_count": 1,
   "metadata": {
    "collapsed": true,
    "deletable": true,
    "editable": true
   },
   "outputs": [],
   "source": [
    "import itertools\n",
    "import math\n",
    "import numpy as np\n",
    "import operator\n",
    "import random\n",
    "\n",
    "from matplotlib import pyplot as plt\n",
    "%matplotlib inline\n",
    "\n",
    "import sympy as sp\n",
    "from sympy.functions.elementary.exponential import exp\n",
    "from sympy.utilities.lambdify import lambdify"
   ]
  },
  {
   "cell_type": "code",
   "execution_count": null,
   "metadata": {
    "collapsed": true,
    "deletable": true,
    "editable": true
   },
   "outputs": [],
   "source": []
  },
  {
   "cell_type": "markdown",
   "metadata": {
    "deletable": true,
    "editable": true
   },
   "source": [
    "# Generate sample data"
   ]
  },
  {
   "cell_type": "markdown",
   "metadata": {
    "deletable": true,
    "editable": true
   },
   "source": [
    "https://en.wikipedia.org/wiki/Rotation_matrix\n",
    "\n",
    "https://en.wikipedia.org/wiki/Multivariate_normal_distribution"
   ]
  },
  {
   "cell_type": "code",
   "execution_count": 2,
   "metadata": {
    "collapsed": true,
    "deletable": true,
    "editable": true
   },
   "outputs": [],
   "source": [
    "# Rotation matrix\n",
    "def rot(theta):\n",
    "    theta = np.radians(theta)\n",
    "    c = np.cos(theta)\n",
    "    s = np.sin(theta)\n",
    "    return np.array([[c, -s], [s, c]])"
   ]
  },
  {
   "cell_type": "code",
   "execution_count": 3,
   "metadata": {
    "collapsed": true,
    "deletable": true,
    "editable": true
   },
   "outputs": [],
   "source": [
    "# Sample points from a rotated 2-dimensional gaussian distribution\n",
    "def sample_2d_normal(center, sd_x, sd_y, theta, N):\n",
    "    \n",
    "    # Covariance matrix\n",
    "    cov = np.diag([sd_x ** 2, sd_y ** 2])\n",
    "    \n",
    "    # Rotation matrix\n",
    "    R = rot(-theta)\n",
    "\n",
    "    # Rotate covariance matrix\n",
    "    cov = np.dot(R, cov).T\n",
    "\n",
    "    # Sample points from the rotated distribution\n",
    "    return np.random.multivariate_normal(center, cov, N).T"
   ]
  },
  {
   "cell_type": "code",
   "execution_count": 4,
   "metadata": {
    "collapsed": false,
    "deletable": true,
    "editable": true
   },
   "outputs": [
    {
     "name": "stderr",
     "output_type": "stream",
     "text": [
      "/usr/lib/python3.5/site-packages/ipykernel/__main__.py:14: RuntimeWarning: covariance is not symmetric positive-semidefinite.\n"
     ]
    }
   ],
   "source": [
    "## First cluster of points\n",
    "\n",
    "# Number of data points\n",
    "N1 = 1000\n",
    "\n",
    "# Data\n",
    "x1 = sample_2d_normal([-3, 3], sd_x=1, sd_y=2, theta=45, N=N1)\n",
    "\n",
    "# Labels\n",
    "y1 = np.array([0] * N1)"
   ]
  },
  {
   "cell_type": "code",
   "execution_count": 5,
   "metadata": {
    "collapsed": false,
    "deletable": true,
    "editable": true
   },
   "outputs": [
    {
     "name": "stderr",
     "output_type": "stream",
     "text": [
      "/usr/lib/python3.5/site-packages/ipykernel/__main__.py:14: RuntimeWarning: covariance is not symmetric positive-semidefinite.\n"
     ]
    }
   ],
   "source": [
    "## Second cluster of points\n",
    "\n",
    "# Number of data points\n",
    "N2 = 1000\n",
    "\n",
    "# Data\n",
    "x2 = sample_2d_normal([1, -1], sd_x=2, sd_y=1, theta=45, N=N2)\n",
    "\n",
    "# Labels\n",
    "y2 = np.array([1] * N2)"
   ]
  },
  {
   "cell_type": "code",
   "execution_count": 6,
   "metadata": {
    "collapsed": false,
    "deletable": true,
    "editable": true
   },
   "outputs": [],
   "source": [
    "## Together\n",
    "\n",
    "# Number of data points\n",
    "N = N1 + N2\n",
    "\n",
    "# Data\n",
    "x = np.concatenate([x1, x2], axis=1)\n",
    "\n",
    "# Labels\n",
    "y = np.concatenate([y1, y2])"
   ]
  },
  {
   "cell_type": "code",
   "execution_count": 7,
   "metadata": {
    "collapsed": true,
    "deletable": true,
    "editable": true
   },
   "outputs": [],
   "source": [
    "# Shuffle dataset\n",
    "index = list(np.random.permutation(N))\n",
    "x = x[:, index]\n",
    "y = y[index]"
   ]
  },
  {
   "cell_type": "code",
   "execution_count": 231,
   "metadata": {
    "collapsed": false,
    "deletable": true,
    "editable": true
   },
   "outputs": [
    {
     "data": {
      "image/png": "[encoded data removed]",
      "text/plain": [
       "<Figure size 432x288 with 1 Axes>"
      ]
     },
     "metadata": {},
     "output_type": "display_data"
    }
   ],
   "source": [
    "# Plot data\n",
    "def plot_data(x, y):\n",
    "    plt.plot(x[0, y == 0], x[1, y == 0], 'g+')\n",
    "    plt.plot(x[0, y == 1], x[1, y == 1], 'b+')\n",
    "    plt.grid()\n",
    "\n",
    "plot_data(x, y)"
   ]
  },
  {
   "cell_type": "markdown",
   "metadata": {
    "deletable": true,
    "editable": true
   },
   "source": [
    "**Goal:** separate the two clusters of points as best as possible with a line."
   ]
  },
  {
   "cell_type": "markdown",
   "metadata": {
    "deletable": true,
    "editable": true
   },
   "source": [
    "## Model"
   ]
  },
  {
   "cell_type": "code",
   "execution_count": 51,
   "metadata": {
    "collapsed": true,
    "deletable": true,
    "editable": true
   },
   "outputs": [],
   "source": [
    "# Add ones to data, so that a bias can be learned by the model\n",
    "z = np.vstack([x, np.array([1] * N)])"
   ]
  },
  {
   "cell_type": "code",
   "execution_count": 189,
   "metadata": {
    "collapsed": true,
    "deletable": true,
    "editable": true
   },
   "outputs": [],
   "source": [
    "# Linear combination of weights and data\n",
    "def f(w, z):\n",
    "    return np.dot(w.T, z)"
   ]
  },
  {
   "cell_type": "code",
   "execution_count": 232,
   "metadata": {
    "collapsed": false,
    "deletable": true,
    "editable": true
   },
   "outputs": [
    {
     "data": {
      "image/png": "[encoded data removed]",
      "text/plain": [
       "<Figure size 432x288 with 1 Axes>"
      ]
     },
     "metadata": {},
     "output_type": "display_data"
    }
   ],
   "source": [
    "# Activation function\n",
    "\n",
    "# As a convention, let's prefix the sympy variables and functions with an underscore.\n",
    "\n",
    "# Symbolic activation function (logistic)\n",
    "def _activation(_h):\n",
    "    return 1 / (1 + exp(-_h))\n",
    "\n",
    "# A symbolic variable. In practice, variable `h` designates `f(w, z)`.\n",
    "_h = sp.var('h')\n",
    "\n",
    "# Regular python activation function\n",
    "activation = lambdify(h, _activation(h))\n",
    "\n",
    "# Plot activation function\n",
    "plot_x = np.linspace(-10, 10, 100)\n",
    "plot_y = np.vectorize(activation)(plot_x)\n",
    "plt.plot(plot_x, plot_y)\n",
    "plt.grid()"
   ]
  },
  {
   "cell_type": "markdown",
   "metadata": {
    "deletable": true,
    "editable": true
   },
   "source": [
    "The model is equivalent to a single layer neural network.\n",
    "\n",
    "For a vector of weights $w \\in \\mathbb{R}^3$ and a point $z \\in \\mathbb{R}^3$, the model is going to be $sgn(activation(f(w, z))$, where $sgn$ is the sign function.\n",
    "\n",
    "If $sgn(activation(f(w, z)) < 0$, the point is assigned to the first class.\n",
    "\n",
    "Conversely, if $sgn(activation(f(w, z)) > 0$, the point is assigned to the second class."
   ]
  },
  {
   "cell_type": "markdown",
   "metadata": {
    "deletable": true,
    "editable": true
   },
   "source": [
    "## Error definition"
   ]
  },
  {
   "cell_type": "code",
   "execution_count": 226,
   "metadata": {
    "collapsed": false,
    "deletable": true,
    "editable": true,
    "scrolled": true
   },
   "outputs": [],
   "source": [
    "# Symbolic variable for labels\n",
    "_y = sp.var('_y')\n",
    "\n",
    "# Error function (squared error): error commited by the model at one data point\n",
    "_error = (_activation(_h) - _y) ** 2"
   ]
  },
  {
   "cell_type": "code",
   "execution_count": 227,
   "metadata": {
    "collapsed": false,
    "deletable": true,
    "editable": true
   },
   "outputs": [],
   "source": [
    "# Regular python error function\n",
    "error = lambdify((_h, _y), _error)"
   ]
  },
  {
   "cell_type": "code",
   "execution_count": 229,
   "metadata": {
    "collapsed": true,
    "deletable": true,
    "editable": true
   },
   "outputs": [],
   "source": [
    "# Loss function: error commited by the model for all data points\n",
    "def loss(w, z, y):\n",
    "    N = z.shape[1]\n",
    "    return sum(error(f(w, z[:, i]), y[i]) for i in range(N))"
   ]
  },
  {
   "cell_type": "markdown",
   "metadata": {
    "deletable": true,
    "editable": true
   },
   "source": [
    "## Gradient of the error"
   ]
  },
  {
   "cell_type": "code",
   "execution_count": 230,
   "metadata": {
    "collapsed": true,
    "deletable": true,
    "editable": true
   },
   "outputs": [],
   "source": [
    "# Symbolic derivative of error which respect to `h`\n",
    "_d_error = _error.diff(_h)\n",
    "\n",
    "# Regular python function for the derivative of error\n",
    "d_error = lambdify((_h, _y), _d_error)"
   ]
  },
  {
   "cell_type": "markdown",
   "metadata": {
    "deletable": true,
    "editable": true
   },
   "source": [
    "Using [chain rule](https://en.wikipedia.org/wiki/Chain_rule):\n",
    "\n",
    "$$\n",
    "error\\_gradient(w, z, y) = \\nabla_w error(f(w, z), y) = d\\_error(f(w, z), y) \\cdot \\underbrace{\\nabla_w f(w, z)}_{z} \\ \\ \\ \\ \\ \\ \\ (1)\n",
    "$$\n",
    "\n",
    "To go further let's derive the [delta rule](https://en.wikipedia.org/wiki/Delta_rule).\n",
    "\n",
    "Let's substitute $h$ for $f(w, z)$.\n",
    "\n",
    "If we assume $error$ to be defined as $error(h, y) = (activation(h) - y)^2$, then, using the chain rule again:\n",
    "\n",
    "$$\n",
    "d\\_error(h, y) = \\frac{\\partial error}{\\partial h} = 2 \\cdot (activation(h) - y) \\cdot d\\_activation(h)\n",
    "$$\n",
    "\n",
    "Furthermore, if we assume $activation$ to be the logistic function defined as $activation(h) = \\frac{1}{1+e^{-h}}$, which has a derivative nicely expressed as:\n",
    "\n",
    "$$\n",
    "d\\_activation(h) = \\frac{\\partial activation}{\\partial h} = activation(h) \\cdot (1 - activation(h))\n",
    "$$\n",
    "\n",
    "Then:\n",
    "\n",
    "$$\n",
    "d\\_error(h, y) = 2 \\cdot (activation(h) - y) \\cdot activation(h) \\cdot (1 - activation(h))\n",
    "$$\n",
    "\n",
    "Which finally gives, substituting $d\\_error(h, y)$ in $(1)$:\n",
    "\n",
    "$$\n",
    "error\\_gradient(w, z, y) = 2 \\cdot (activation(f(w, z)) - y) \\cdot activation(f(w, z)) \\cdot (1 - activation(f(w, z)) \\cdot z \\ \\ \\ \\ \\ \\ \\ (2)\n",
    "$$\n",
    "\n",
    "However, let's stick to $(1)$, which allows for any derivable $error$ and $activation$ functions."
   ]
  },
  {
   "cell_type": "code",
   "execution_count": 213,
   "metadata": {
    "collapsed": true,
    "deletable": true,
    "editable": true
   },
   "outputs": [],
   "source": [
    "# By equation (1):\n",
    "def error_gradient(w, z, y):\n",
    "    return d_error(f(w, z), y) * z\n",
    "\n",
    "# Alternatively (and faster), by equation (2):\n",
    "#def error_gradient(w, z, y):\n",
    "#    a = activation(f(w, z))\n",
    "#    return 2 * (a - y) * a * (1 - a) * z"
   ]
  },
  {
   "cell_type": "markdown",
   "metadata": {
    "deletable": true,
    "editable": true
   },
   "source": [
    "## Stochastic gradient descent algorithm"
   ]
  },
  {
   "cell_type": "markdown",
   "metadata": {
    "deletable": true,
    "editable": true
   },
   "source": [
    "https://en.wikipedia.org/wiki/Stochastic_gradient_descent"
   ]
  },
  {
   "cell_type": "code",
   "execution_count": 214,
   "metadata": {
    "collapsed": true,
    "deletable": true,
    "editable": true
   },
   "outputs": [],
   "source": [
    "# Update rule\n",
    "def update(w, z, y, lr):\n",
    "    # `lr` stands for \"learning rate\"\n",
    "    return w - lr * error_gradient(w, z, y)"
   ]
  },
  {
   "cell_type": "code",
   "execution_count": 215,
   "metadata": {
    "collapsed": true,
    "deletable": true,
    "editable": true
   },
   "outputs": [],
   "source": [
    "def sgd(z, y, initial_weights, lr):\n",
    "\n",
    "    w = initial_weights\n",
    "    N = z.shape[1]\n",
    "    \n",
    "    while True:\n",
    "        \n",
    "        # Stochastic part of the algorithm: choose a data point at random for this iteration.\n",
    "        i = random.randint(0, N - 1)\n",
    "        \n",
    "        w = update(w, z[:, i], y[i], lr)\n",
    "        current_loss = loss(w, z, y)\n",
    "        yield w, current_loss"
   ]
  },
  {
   "cell_type": "markdown",
   "metadata": {
    "deletable": true,
    "editable": true
   },
   "source": [
    "## Run algorithm"
   ]
  },
  {
   "cell_type": "code",
   "execution_count": 216,
   "metadata": {
    "collapsed": false,
    "deletable": true,
    "editable": true,
    "scrolled": false
   },
   "outputs": [
    {
     "name": "stdout",
     "output_type": "stream",
     "text": [
      "step 0001, loss = 681.7590655870\n",
      "step 0002, loss = 647.1189229090\n",
      "step 0003, loss = 644.5656700028\n",
      "step 0004, loss = 606.0859754779\n",
      "step 0005, loss = 605.7535083252\n",
      "step 0006, loss = 602.1946594557\n",
      "step 0007, loss = 600.4361258808\n",
      "step 0008, loss = 591.5896278705\n",
      "step 0009, loss = 588.0646776743\n",
      "step 0010, loss = 587.6138631592\n",
      "step 0020, loss = 486.0869758829\n",
      "step 0030, loss = 401.6325766677\n",
      "step 0040, loss = 367.8626761921\n",
      "step 0050, loss = 331.0377255349\n",
      "step 0060, loss = 310.3607264181\n",
      "step 0070, loss = 308.7779416059\n",
      "step 0080, loss = 263.9798096500\n",
      "step 0090, loss = 243.9194900094\n",
      "step 0100, loss = 207.9660070314\n",
      "step 0200, loss = 158.9161631071\n",
      "step 0300, loss = 134.5962162088\n",
      "step 0400, loss = 113.4194783893\n",
      "step 0500, loss = 103.6965786527\n",
      "step 0600, loss = 88.2815352700\n",
      "step 0700, loss = 79.7776384565\n",
      "step 0800, loss = 76.4961567483\n",
      "step 0900, loss = 72.3386842761\n",
      "step 1000, loss = 70.7273854597\n"
     ]
    }
   ],
   "source": [
    "# Set learning rate\n",
    "lr = 0.05\n",
    "\n",
    "# Numbers of iterations\n",
    "steps_nb = 1000\n",
    "\n",
    "# Initialize weights\n",
    "w = np.array([1, 1, 0])\n",
    "\n",
    "# Initialize algorithm\n",
    "\n",
    "current_loss = 1\n",
    "step = 0\n",
    "\n",
    "loss_history = []\n",
    "weights_history = []\n",
    "\n",
    "gen = sgd(z, y, w, lr)\n",
    "\n",
    "# Run algorithm\n",
    "\n",
    "for step in range(1, steps_nb + 1):\n",
    "\n",
    "    w, current_loss = next(gen)\n",
    "\n",
    "    weights_history.append(w)\n",
    "    loss_history.append(current_loss)\n",
    "\n",
    "    # Pretty-printing ironically requires code that is not so pretty\n",
    "    if step % 10 ** (len(str(step)) - 1) == 0 or step == steps_nb:\n",
    "        print('step %s, loss = %.10f' % (str(step).zfill(len(str(steps_nb))), current_loss))"
   ]
  },
  {
   "cell_type": "markdown",
   "metadata": {
    "deletable": true,
    "editable": true
   },
   "source": [
    "## Plot loss history"
   ]
  },
  {
   "cell_type": "code",
   "execution_count": 217,
   "metadata": {
    "collapsed": false,
    "deletable": true,
    "editable": true,
    "scrolled": true
   },
   "outputs": [
    {
     "data": {
      "image/png": "[encoded data removed]",
      "text/plain": [
       "<Figure size 432x288 with 1 Axes>"
      ]
     },
     "metadata": {},
     "output_type": "display_data"
    }
   ],
   "source": [
    "x_plot = list(range(1, len(loss_history) + 1))\n",
    "y_plot = list(loss_history)\n",
    "\n",
    "plt.plot(x_plot, y_plot)\n",
    "plt.xlabel ('step')\n",
    "plt.ylabel ('loss')\n",
    "plt.grid()\n",
    "\n",
    "plt.show()"
   ]
  },
  {
   "cell_type": "markdown",
   "metadata": {
    "deletable": true,
    "editable": true
   },
   "source": [
    "## Visualize algorithm"
   ]
  },
  {
   "cell_type": "markdown",
   "metadata": {
    "deletable": true,
    "editable": true
   },
   "source": [
    "The best way to visualize what the model is doing is to plot the decision surface, which is the set of points for which $sgn(activation(f(w, z)) = 0$.\n",
    "\n",
    "Let's find the equation of the decision surface.\n",
    "\n",
    "For all points $x = (x_1, x_2)$, which translates as $z = (x_1, x_2, 1)$:\n",
    "\n",
    "$$\n",
    "sgn(activation(f(w, z)) = 0 \\\\\n",
    "\\Leftrightarrow \\\\\n",
    "w_1 \\cdot \\underbrace{z_1}_{x_1} + w_2 \\cdot \\underbrace{z_2}_{x_2} + w_3 \\cdot \\underbrace{z_3}_{1} = 0 \\\\\n",
    "\\underset{w_2 \\neq 0,\\ please}{\\Leftrightarrow} \\\\\n",
    "x_2 = - \\frac{w_1}{w_2} \\cdot x_1 - \\frac{w_3}{w_2}\n",
    "$$\n",
    "\n",
    "... which is the equation of a line.\n",
    "\n",
    "About decision surfaces: http://www.cs.stir.ac.uk/courses/ITNP4B/lectures/kms/2-Perceptrons.pdf, slide 7"
   ]
  },
  {
   "cell_type": "code",
   "execution_count": 218,
   "metadata": {
    "collapsed": true,
    "deletable": true,
    "editable": true
   },
   "outputs": [],
   "source": [
    "def decision_surface(w, x_1):\n",
    "    return -w[0] / w[1] * x_1 - w[2] / w[1]"
   ]
  },
  {
   "cell_type": "code",
   "execution_count": 233,
   "metadata": {
    "collapsed": true,
    "deletable": true,
    "editable": true
   },
   "outputs": [],
   "source": [
    "# Plot data along with the decision surface of the model\n",
    "def plot(w, x, y):\n",
    "    \n",
    "    # Plot data\n",
    "    plt.plot(x[0, y == 0], x[1, y == 0], 'g+')\n",
    "    plt.plot(x[0, y == 1], x[1, y == 1], 'b+')\n",
    "        \n",
    "    # Get data bounds\n",
    "    x_min, x_max = x[0, :].min(), x[0, :].max()\n",
    "    x_range = x_max - x_min\n",
    "    y_min, y_max = x[1, :].min(), x[1, :].max()\n",
    "    y_range = y_max - y_min\n",
    "\n",
    "    # Enlarge data bounds for prettier plotting\n",
    "    unzoom_matio = 0.1\n",
    "    x_min -= unzoom_matio * x_range\n",
    "    x_max += unzoom_matio * x_range\n",
    "    y_min -= unzoom_matio * y_range\n",
    "    y_max += unzoom_matio * y_range\n",
    "\n",
    "    # Set graph limits\n",
    "    plt.xlim(x_min, x_max)\n",
    "    plt.ylim(y_min, y_max)\n",
    "\n",
    "    # Plot the decision surface of the model\n",
    "    x1_min, x1_max = -100, 100\n",
    "    x2_min = decision_surface(w, x1_min)\n",
    "    x2_max = decision_surface(w, x1_max)\n",
    "    plt.plot([x1_min, x1_max], [x2_min, x2_max], 'r')\n",
    "\n",
    "    plt.grid()"
   ]
  },
  {
   "cell_type": "code",
   "execution_count": 234,
   "metadata": {
    "collapsed": false,
    "deletable": true,
    "editable": true
   },
   "outputs": [
    {
     "data": {
      "text/plain": [
       "[681.759065587045, 192.14603724601227, 130.94440870338326, 69.74278016075414]"
      ]
     },
     "execution_count": 234,
     "metadata": {},
     "output_type": "execute_result"
    }
   ],
   "source": [
    "# Find a set of losses at which to display the progression of the algorithm\n",
    "\n",
    "# Get loss bounds\n",
    "loss_min, loss_max = min(loss_history), max(loss_history)\n",
    "loss_range = loss_max - loss_min\n",
    "\n",
    "# Split losses\n",
    "selected_losses = [loss_max - r * loss_range for r in (0, 0.8, 0.9, 1)]\n",
    "selected_losses = sorted(selected_losses, reverse=True)\n",
    "\n",
    "selected_losses"
   ]
  },
  {
   "cell_type": "code",
   "execution_count": 235,
   "metadata": {
    "collapsed": false,
    "deletable": true,
    "editable": true
   },
   "outputs": [
    {
     "data": {
      "text/plain": [
       "[1, 135, 310, 968]"
      ]
     },
     "execution_count": 235,
     "metadata": {},
     "output_type": "execute_result"
    }
   ],
   "source": [
    "# Find a set of strictly increasing steps for which the loss is around `selected_losses`\n",
    "\n",
    "selected_steps = []\n",
    "\n",
    "i = 0\n",
    "for step, current_loss in enumerate(loss_history):\n",
    "\n",
    "    if current_loss <= selected_losses[i]:\n",
    "        selected_steps.append(step + 1)\n",
    "        i += 1\n",
    "\n",
    "    if i >= len(selected_losses):\n",
    "        break\n",
    "\n",
    "# Float comparison is tricky. Make the step corresponding\n",
    "# to the lowest loss has been selected. \n",
    "if len(selected_steps) < len(selected_losses):\n",
    "    selected_steps.append(steps_nb - 1)\n",
    "\n",
    "selected_steps"
   ]
  },
  {
   "cell_type": "code",
   "execution_count": 236,
   "metadata": {
    "collapsed": false,
    "deletable": true,
    "editable": true
   },
   "outputs": [
    {
     "name": "stdout",
     "output_type": "stream",
     "text": [
      "step 1\n"
     ]
    },
    {
     "data": {
      "image/png": "[encoded data removed]",
      "text/plain": [
       "<Figure size 432x288 with 1 Axes>"
      ]
     },
     "metadata": {},
     "output_type": "display_data"
    },
    {
     "name": "stdout",
     "output_type": "stream",
     "text": [
      "step 135\n"
     ]
    },
    {
     "data": {
      "image/png": "[encoded data removed]",
      "text/plain": [
       "<Figure size 432x288 with 1 Axes>"
      ]
     },
     "metadata": {},
     "output_type": "display_data"
    },
    {
     "name": "stdout",
     "output_type": "stream",
     "text": [
      "step 310\n"
     ]
    },
    {
     "data": {
      "image/png": "[encoded data removed]",
      "text/plain": [
       "<Figure size 432x288 with 1 Axes>"
      ]
     },
     "metadata": {},
     "output_type": "display_data"
    },
    {
     "name": "stdout",
     "output_type": "stream",
     "text": [
      "step 968\n"
     ]
    },
    {
     "data": {
      "image/png": "[encoded data removed]",
      "text/plain": [
       "<Figure size 432x288 with 1 Axes>"
      ]
     },
     "metadata": {},
     "output_type": "display_data"
    }
   ],
   "source": [
    "# Visualize\n",
    "for step in selected_steps:\n",
    "    print('step %i' % (step))\n",
    "    plot(weights_history[step - 1], x, y)\n",
    "    plt.show()"
   ]
  },
  {
   "cell_type": "markdown",
   "metadata": {
    "deletable": true,
    "editable": true
   },
   "source": [
    "## Re-plot loss history"
   ]
  },
  {
   "cell_type": "markdown",
   "metadata": {
    "deletable": true,
    "editable": true
   },
   "source": [
    "Highlight `selected_steps` this time"
   ]
  },
  {
   "cell_type": "code",
   "execution_count": 223,
   "metadata": {
    "collapsed": false,
    "deletable": true,
    "editable": true
   },
   "outputs": [
    {
     "data": {
      "image/png": "[encoded data removed]",
      "text/plain": [
       "<Figure size 432x288 with 1 Axes>"
      ]
     },
     "metadata": {},
     "output_type": "display_data"
    }
   ],
   "source": [
    "x_plot = list(range(1, len(loss_history) + 1))\n",
    "y_plot = list(loss_history)\n",
    "\n",
    "selected_losses = [loss_history[step - 1] for step in selected_steps]\n",
    "\n",
    "plt.plot(x_plot, y_plot)\n",
    "plt.plot(selected_steps, selected_losses, 'ro')\n",
    "\n",
    "plt.xlabel ('step')\n",
    "plt.ylabel ('loss')\n",
    "plt.grid()\n",
    "\n",
    "plt.show()"
   ]
  },
  {
   "cell_type": "markdown",
   "metadata": {
    "deletable": true,
    "editable": true
   },
   "source": [
    "## Plot weights history"
   ]
  },
  {
   "cell_type": "markdown",
   "metadata": {
    "deletable": true,
    "editable": true
   },
   "source": [
    "Highlight `selected_steps` as well"
   ]
  },
  {
   "cell_type": "code",
   "execution_count": 224,
   "metadata": {
    "collapsed": false,
    "deletable": true,
    "editable": true
   },
   "outputs": [
    {
     "data": {
      "image/png": "[encoded data removed]",
      "text/plain": [
       "<Figure size 432x288 with 1 Axes>"
      ]
     },
     "metadata": {},
     "output_type": "display_data"
    }
   ],
   "source": [
    "weights_y = list(map(operator.itemgetter(1), weights_history))\n",
    "weights_x = list(map(operator.itemgetter(0), weights_history))\n",
    "\n",
    "selected_weights_y = [weights_history[step - 1][1] for step in selected_steps]\n",
    "selected_weights_x = [weights_history[step - 1][0] for step in selected_steps]\n",
    "\n",
    "plt.plot(weights_y, weights_x)\n",
    "plt.plot(selected_weights_y, selected_weights_x, 'ro')\n",
    "\n",
    "plt.xlabel ('weight_y')\n",
    "plt.ylabel ('weight_x')\n",
    "plt.grid()\n",
    "\n",
    "plt.show()"
   ]
  },
  {
   "cell_type": "code",
   "execution_count": null,
   "metadata": {
    "collapsed": true,
    "deletable": true,
    "editable": true
   },
   "outputs": [],
   "source": []
  }
 ],
 "metadata": {
  "kernelspec": {
   "display_name": "Python 3",
   "language": "python",
   "name": "python3"
  },
  "language_info": {
   "codemirror_mode": {
    "name": "ipython",
    "version": 3
   },
   "file_extension": ".py",
   "mimetype": "text/x-python",
   "name": "python",
   "nbconvert_exporter": "python",
   "pygments_lexer": "ipython3",
   "version": "3.5.3"
  }
 },
 "nbformat": 4,
 "nbformat_minor": 2
}
