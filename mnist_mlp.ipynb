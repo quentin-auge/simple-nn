{
 "cells": [
  {
   "cell_type": "markdown",
   "metadata": {},
   "source": [
    "# Fit MNIST dataset using a multilayer perceptron"
   ]
  },
  {
   "cell_type": "markdown",
   "metadata": {},
   "source": [
    "Very inspired ..."
   ]
  },
  {
   "cell_type": "code",
   "execution_count": 1,
   "metadata": {},
   "outputs": [],
   "source": [
    "%load_ext autoreload\n",
    "%autoreload 2"
   ]
  },
  {
   "cell_type": "code",
   "execution_count": 2,
   "metadata": {},
   "outputs": [],
   "source": [
    "import idx2numpy\n",
    "\n",
    "import numpy as np\n",
    "from matplotlib import pyplot as plt\n",
    "\n",
    "%matplotlib inline"
   ]
  },
  {
   "cell_type": "code",
   "execution_count": 3,
   "metadata": {},
   "outputs": [],
   "source": [
    "from lib.mlp import MLP"
   ]
  },
  {
   "cell_type": "code",
   "execution_count": null,
   "metadata": {},
   "outputs": [],
   "source": []
  },
  {
   "cell_type": "markdown",
   "metadata": {},
   "source": [
    "## Load data"
   ]
  },
  {
   "cell_type": "code",
   "execution_count": 4,
   "metadata": {},
   "outputs": [],
   "source": [
    "def normalize_data(data):\n",
    "\n",
    "    data = data.reshape(data.shape[0], 28 * 28).T\n",
    "    \n",
    "    # Standarize data\n",
    "    data = (data - data.mean(axis=0)) / data.std(axis=0)\n",
    "\n",
    "    # Keep data in a good range of value to avoid the vanishing\n",
    "    # or exploding gradient problems\n",
    "    data /= 3\n",
    "    \n",
    "    return data"
   ]
  },
  {
   "cell_type": "code",
   "execution_count": 5,
   "metadata": {},
   "outputs": [],
   "source": [
    "def normalize_labels(labels):\n",
    "\n",
    "    # One-hot encode the labels\n",
    "    labels = np.eye(10)[labels].T\n",
    "\n",
    "    return labels"
   ]
  },
  {
   "cell_type": "code",
   "execution_count": 6,
   "metadata": {},
   "outputs": [],
   "source": [
    "# Load train data and labels\n",
    "\n",
    "raw_x_train = idx2numpy.convert_from_file('./data/mnist/train-images-idx3-ubyte')\n",
    "x_train = normalize_data(raw_x_train)\n",
    "\n",
    "raw_y_train = idx2numpy.convert_from_file('./data/mnist/train-labels-idx1-ubyte')\n",
    "y_train = normalize_labels(raw_y_train)\n",
    "\n",
    "# Load test data and labels\n",
    "\n",
    "raw_x_test = idx2numpy.convert_from_file('./data/mnist/t10k-images-idx3-ubyte')\n",
    "x_test = normalize_data(raw_x_test)\n",
    "\n",
    "raw_y_test = idx2numpy.convert_from_file('./data/mnist/t10k-labels-idx1-ubyte')\n",
    "y_test = normalize_labels(raw_y_test)"
   ]
  },
  {
   "cell_type": "code",
   "execution_count": null,
   "metadata": {},
   "outputs": [],
   "source": []
  },
  {
   "cell_type": "markdown",
   "metadata": {},
   "source": [
    "# Train model"
   ]
  },
  {
   "cell_type": "code",
   "execution_count": 7,
   "metadata": {
    "scrolled": true
   },
   "outputs": [],
   "source": [
    "def get_accuracy(raw_predictions, raw_labels):\n",
    "    return (raw_labels == raw_predictions).mean()"
   ]
  },
  {
   "cell_type": "code",
   "execution_count": 8,
   "metadata": {},
   "outputs": [],
   "source": [
    "def evaluate_accuracy(model, data, raw_labels):\n",
    "    predictions = model.predict(data)\n",
    "    raw_predictions = np.argmax(predictions, axis=0)\n",
    "    accuracy = get_accuracy(raw_predictions, raw_labels)\n",
    "    return accuracy"
   ]
  },
  {
   "cell_type": "code",
   "execution_count": 9,
   "metadata": {
    "scrolled": true
   },
   "outputs": [],
   "source": [
    "mlp = MLP(layers=[28 * 28, 100, 100, 100, 10])"
   ]
  },
  {
   "cell_type": "code",
   "execution_count": 10,
   "metadata": {
    "scrolled": false
   },
   "outputs": [
    {
     "name": "stdout",
     "output_type": "stream",
     "text": [
      "epoch 1, loss = 0.251, train accuracy = 61.6%, test_accuracy = 62.5%\n",
      "epoch 2, loss = 0.153, train accuracy = 74.5%, test_accuracy = 74.6%\n",
      "epoch 3, loss = 0.106, train accuracy = 84.8%, test_accuracy = 84.4%\n",
      "epoch 4, loss = 0.090, train accuracy = 86.3%, test_accuracy = 85.8%\n",
      "epoch 5, loss = 0.038, train accuracy = 95.6%, test_accuracy = 95.0%\n",
      "epoch 6, loss = 0.032, train accuracy = 96.2%, test_accuracy = 95.6%\n",
      "epoch 7, loss = 0.030, train accuracy = 96.5%, test_accuracy = 95.9%\n",
      "epoch 8, loss = 0.025, train accuracy = 97.1%, test_accuracy = 96.2%\n",
      "epoch 9, loss = 0.022, train accuracy = 97.5%, test_accuracy = 96.5%\n",
      "epoch 10, loss = 0.020, train accuracy = 97.7%, test_accuracy = 96.7%\n",
      "epoch 11, loss = 0.021, train accuracy = 97.5%, test_accuracy = 96.5%\n",
      "epoch 12, loss = 0.016, train accuracy = 98.2%, test_accuracy = 96.9%\n",
      "epoch 13, loss = 0.015, train accuracy = 98.3%, test_accuracy = 97.2%\n",
      "epoch 14, loss = 0.015, train accuracy = 98.3%, test_accuracy = 97.0%\n",
      "epoch 15, loss = 0.013, train accuracy = 98.6%, test_accuracy = 96.9%\n",
      "epoch 16, loss = 0.012, train accuracy = 98.7%, test_accuracy = 97.2%\n",
      "epoch 17, loss = 0.011, train accuracy = 98.8%, test_accuracy = 97.3%\n",
      "epoch 18, loss = 0.010, train accuracy = 98.9%, test_accuracy = 97.4%\n",
      "epoch 19, loss = 0.009, train accuracy = 99.0%, test_accuracy = 97.4%\n",
      "epoch 20, loss = 0.009, train accuracy = 99.0%, test_accuracy = 97.3%\n",
      "epoch 21, loss = 0.009, train accuracy = 99.0%, test_accuracy = 97.2%\n",
      "epoch 22, loss = 0.008, train accuracy = 99.1%, test_accuracy = 97.3%\n",
      "epoch 23, loss = 0.007, train accuracy = 99.2%, test_accuracy = 97.5%\n",
      "epoch 24, loss = 0.007, train accuracy = 99.3%, test_accuracy = 97.4%\n",
      "epoch 25, loss = 0.006, train accuracy = 99.3%, test_accuracy = 97.6%\n",
      "epoch 26, loss = 0.006, train accuracy = 99.3%, test_accuracy = 97.3%\n",
      "epoch 27, loss = 0.006, train accuracy = 99.3%, test_accuracy = 97.6%\n",
      "epoch 28, loss = 0.005, train accuracy = 99.4%, test_accuracy = 97.7%\n",
      "epoch 29, loss = 0.005, train accuracy = 99.4%, test_accuracy = 97.5%\n",
      "epoch 30, loss = 0.005, train accuracy = 99.4%, test_accuracy = 97.5%\n",
      "\n",
      "CPU times: user 1h 37min 1s, sys: 2h 7min 56s, total: 3h 44min 58s\n",
      "Wall time: 1h 3min 42s\n"
     ]
    }
   ],
   "source": [
    "%%time\n",
    "\n",
    "epochs = 30\n",
    "\n",
    "for epoch in range(1, epochs + 1):\n",
    "    mse = mlp.fit(x_train, y_train, epochs=1, batch_size=100, eta=3)\n",
    "    train_accuracy = evaluate_accuracy(mlp, x_train, raw_y_train) * 100\n",
    "    test_accuracy = evaluate_accuracy(mlp, x_test, raw_y_test) * 100\n",
    "    \n",
    "    print('epoch %i, loss = %.3f, train accuracy = %.1f%%, test_accuracy = %.1f%%' %\n",
    "          (epoch, mse, train_accuracy, test_accuracy))\n",
    "\n",
    "print()"
   ]
  },
  {
   "cell_type": "markdown",
   "metadata": {},
   "source": [
    "The ~97.5% accuracy on test set is conform to what is expected from a multilayer perceptron learning from MNIST dataset.\n",
    "\n",
    "See [http://yann.lecun.com/exdb/mnist/](http://yann.lecun.com/exdb/mnist/)."
   ]
  },
  {
   "cell_type": "code",
   "execution_count": null,
   "metadata": {},
   "outputs": [],
   "source": []
  },
  {
   "cell_type": "markdown",
   "metadata": {},
   "source": [
    "## Show some relevant predictions"
   ]
  },
  {
   "cell_type": "code",
   "execution_count": 12,
   "metadata": {},
   "outputs": [],
   "source": [
    "# Plot example images and predictions\n",
    "def plot_examples(raw_data, raw_labels, raw_predictions, subplots_nrows=1, subplots_ncols=4, cmap='Greys'):\n",
    "\n",
    "    assert raw_data.shape[0] == len(raw_predictions)\n",
    "    \n",
    "    fig, plts = plt.subplots(subplots_nrows, subplots_ncols)\n",
    "\n",
    "    if subplots_nrows == 1:\n",
    "        plts = [plts]\n",
    "\n",
    "    for i in range(subplots_nrows):\n",
    "        for j in range(subplots_ncols):\n",
    "\n",
    "            # Get subplot index\n",
    "            k = i * subplots_ncols + j\n",
    "\n",
    "            # Do not attempt to plot anything if available examples are exhausted\n",
    "            if k < len(raw_predictions):\n",
    "                plts[i][j].imshow(raw_data[k], cmap=cmap)\n",
    "                plts[i][j].set_title('predicted: {prediction}\\nground truth: {label}'.\n",
    "                                     format(label=raw_labels[k], prediction=raw_predictions[k]))\n",
    "\n",
    "            # Deactivate axis\n",
    "            plts[i][j].axis('off')\n",
    "\n",
    "    # Set layout\n",
    "    fig.set_figheight(1.8 * subplots_nrows)\n",
    "    fig.set_figwidth(1.8 * subplots_ncols)\n",
    "    fig.tight_layout()"
   ]
  },
  {
   "cell_type": "code",
   "execution_count": 13,
   "metadata": {},
   "outputs": [],
   "source": [
    "# For each image, get prediction for each class\n",
    "p_test = mlp.predict(x_test)\n",
    "\n",
    "# For each image, get predicted class\n",
    "raw_p_test = np.argmax(p_test, axis=0)\n",
    "\n",
    "# For each image, get prediction strengh\n",
    "# How sure is it that the prediction is the correct one?\n",
    "prediction_strengh = p_test[raw_p_test, np.arange(p_test.shape[1])]\n",
    "# How sure is it that the true class is the correct one?\n",
    "prediction_strengh += p_test[raw_y_test, np.arange(y_test.shape[1])]\n",
    "\n",
    "# Get indices of images by decreasing prediction strengh\n",
    "strengh_indices = prediction_strengh.argsort()[::-1]\n",
    "\n",
    "# For each image, check if the prediction is correct\n",
    "is_correct = raw_p_test == raw_y_test\n",
    "# Sort by decreasing prediction strengh\n",
    "is_correct = is_correct[strengh_indices]"
   ]
  },
  {
   "cell_type": "code",
   "execution_count": null,
   "metadata": {},
   "outputs": [],
   "source": []
  },
  {
   "cell_type": "markdown",
   "metadata": {},
   "source": [
    "### Correct predictions that were the most certain for each class"
   ]
  },
  {
   "cell_type": "code",
   "execution_count": 14,
   "metadata": {},
   "outputs": [
    {
     "data": {
      "image/png": "[encoded data removed]",
      "text/plain": [
       "<Figure size 518.4x388.8 with 12 Axes>"
      ]
     },
     "metadata": {},
     "output_type": "display_data"
    }
   ],
   "source": [
    "most_correct = strengh_indices[is_correct == True]\n",
    "\n",
    "# Find the first index corresponding to each label within `most_correct`\n",
    "indices = []\n",
    "for label in range(10):\n",
    "    index = np.argmax(raw_y_test[most_correct] == label)\n",
    "    indices.append(most_correct[index])\n",
    "\n",
    "plot_examples(raw_x_test[indices], raw_y_test[indices], raw_p_test[indices],\n",
    "              cmap='Greens', subplots_nrows=3)"
   ]
  },
  {
   "cell_type": "code",
   "execution_count": null,
   "metadata": {},
   "outputs": [],
   "source": []
  },
  {
   "cell_type": "markdown",
   "metadata": {},
   "source": [
    "### Correct predictions that were the least certain"
   ]
  },
  {
   "cell_type": "code",
   "execution_count": 15,
   "metadata": {},
   "outputs": [
    {
     "data": {
      "image/png": "[encoded data removed]",
      "text/plain": [
       "<Figure size 518.4x129.6 with 4 Axes>"
      ]
     },
     "metadata": {},
     "output_type": "display_data"
    }
   ],
   "source": [
    "least_correct = strengh_indices[::-1][is_correct[::-1] == True]\n",
    "plot_examples(raw_x_test[least_correct], raw_y_test[least_correct], raw_p_test[least_correct],\n",
    "              cmap='Greens')"
   ]
  },
  {
   "cell_type": "code",
   "execution_count": null,
   "metadata": {},
   "outputs": [],
   "source": []
  },
  {
   "cell_type": "markdown",
   "metadata": {},
   "source": [
    "### Incorrect predictions that were the most certain"
   ]
  },
  {
   "cell_type": "code",
   "execution_count": 16,
   "metadata": {},
   "outputs": [
    {
     "data": {
      "image/png": "[encoded data removed]",
      "text/plain": [
       "<Figure size 518.4x129.6 with 4 Axes>"
      ]
     },
     "metadata": {},
     "output_type": "display_data"
    }
   ],
   "source": [
    "most_incorrect = strengh_indices[is_correct == False]\n",
    "plot_examples(raw_x_test[most_incorrect], raw_y_test[most_incorrect], raw_p_test[most_incorrect],\n",
    "              cmap='Reds')"
   ]
  },
  {
   "cell_type": "code",
   "execution_count": null,
   "metadata": {},
   "outputs": [],
   "source": []
  },
  {
   "cell_type": "markdown",
   "metadata": {},
   "source": [
    "### Incorrect predictions that were the least certain"
   ]
  },
  {
   "cell_type": "code",
   "execution_count": 17,
   "metadata": {},
   "outputs": [
    {
     "data": {
      "image/png": "[encoded data removed]",
      "text/plain": [
       "<Figure size 518.4x129.6 with 4 Axes>"
      ]
     },
     "metadata": {},
     "output_type": "display_data"
    }
   ],
   "source": [
    "most_incorrect = strengh_indices[::-1][is_correct[::-1] == False]\n",
    "plot_examples(raw_x_test[most_incorrect], raw_y_test[most_incorrect], raw_p_test[most_incorrect],\n",
    "              cmap='Reds')"
   ]
  },
  {
   "cell_type": "code",
   "execution_count": null,
   "metadata": {},
   "outputs": [],
   "source": []
  },
  {
   "cell_type": "markdown",
   "metadata": {},
   "source": [
    "## Same as above using Keras"
   ]
  },
  {
   "cell_type": "code",
   "execution_count": 20,
   "metadata": {},
   "outputs": [],
   "source": [
    "from keras.models import Sequential\n",
    "from keras.layers import Input\n",
    "from keras.layers.core import Dense\n",
    "from keras.optimizers import SGD"
   ]
  },
  {
   "cell_type": "code",
   "execution_count": 19,
   "metadata": {},
   "outputs": [
    {
     "name": "stdout",
     "output_type": "stream",
     "text": [
      "Train on 60000 samples, validate on 10000 samples\n",
      "Epoch 1/15\n",
      "60000/60000 [==============================] - 25s - loss: 0.0300 - acc: 0.7691 - val_loss: 0.0122 - val_acc: 0.9217\n",
      "Epoch 2/15\n",
      "60000/60000 [==============================] - 21s - loss: 0.0089 - acc: 0.9430 - val_loss: 0.0085 - val_acc: 0.9459\n",
      "Epoch 3/15\n",
      "60000/60000 [==============================] - 21s - loss: 0.0064 - acc: 0.9593 - val_loss: 0.0062 - val_acc: 0.9606\n",
      "Epoch 4/15\n",
      "60000/60000 [==============================] - 22s - loss: 0.0051 - acc: 0.9681 - val_loss: 0.0057 - val_acc: 0.9644\n",
      "Epoch 5/15\n",
      "60000/60000 [==============================] - 21s - loss: 0.0042 - acc: 0.9737 - val_loss: 0.0056 - val_acc: 0.9645\n",
      "Epoch 6/15\n",
      "60000/60000 [==============================] - 22s - loss: 0.0036 - acc: 0.9774 - val_loss: 0.0046 - val_acc: 0.9708\n",
      "Epoch 7/15\n",
      "60000/60000 [==============================] - 21s - loss: 0.0032 - acc: 0.9805 - val_loss: 0.0050 - val_acc: 0.9679\n",
      "Epoch 8/15\n",
      "60000/60000 [==============================] - 21s - loss: 0.0029 - acc: 0.9823 - val_loss: 0.0045 - val_acc: 0.9714\n",
      "Epoch 9/15\n",
      "60000/60000 [==============================] - 20s - loss: 0.0025 - acc: 0.9853 - val_loss: 0.0044 - val_acc: 0.9718\n",
      "Epoch 10/15\n",
      "60000/60000 [==============================] - 21s - loss: 0.0022 - acc: 0.9870 - val_loss: 0.0042 - val_acc: 0.9739\n",
      "Epoch 11/15\n",
      "60000/60000 [==============================] - 22s - loss: 0.0020 - acc: 0.9881 - val_loss: 0.0038 - val_acc: 0.9759\n",
      "Epoch 12/15\n",
      "60000/60000 [==============================] - 21s - loss: 0.0018 - acc: 0.9895 - val_loss: 0.0044 - val_acc: 0.9722\n",
      "Epoch 13/15\n",
      "60000/60000 [==============================] - 33s - loss: 0.0016 - acc: 0.9905 - val_loss: 0.0039 - val_acc: 0.9754\n",
      "Epoch 14/15\n",
      "60000/60000 [==============================] - 32s - loss: 0.0015 - acc: 0.9913 - val_loss: 0.0043 - val_acc: 0.9731\n",
      "Epoch 15/15\n",
      "60000/60000 [==============================] - 31s - loss: 0.0014 - acc: 0.9919 - val_loss: 0.0038 - val_acc: 0.9767\n",
      "\n",
      "CPU times: user 7min 23s, sys: 12min 43s, total: 20min 7s\n",
      "Wall time: 6min 1s\n"
     ]
    }
   ],
   "source": [
    "%%time\n",
    "\n",
    "mlp = Sequential()\n",
    "mlp.add(Dense(100, input_shape=(28 * 28,), activation='sigmoid'))\n",
    "mlp.add(Dense(100, activation='sigmoid'))\n",
    "mlp.add(Dense(100, activation='sigmoid'))\n",
    "mlp.add(Dense(10, activation='sigmoid'))\n",
    "mlp.compile(optimizer=SGD(lr=3), loss='mse', metrics=['accuracy'])\n",
    "mlp.fit(x_train.T, y_train.T, validation_data=(x_test.T, y_test.T), batch_size=5, nb_epoch=15)\n",
    "print()"
   ]
  },
  {
   "cell_type": "markdown",
   "metadata": {},
   "source": [
    "Same accuracy on test set: ~97.5%."
   ]
  },
  {
   "cell_type": "code",
   "execution_count": null,
   "metadata": {},
   "outputs": [],
   "source": []
  }
 ],
 "metadata": {
  "kernelspec": {
   "display_name": "Python 3",
   "language": "python",
   "name": "python3"
  },
  "language_info": {
   "codemirror_mode": {
    "name": "ipython",
    "version": 3
   },
   "file_extension": ".py",
   "mimetype": "text/x-python",
   "name": "python",
   "nbconvert_exporter": "python",
   "pygments_lexer": "ipython3",
   "version": "3.5.3"
  }
 },
 "nbformat": 4,
 "nbformat_minor": 2
}
