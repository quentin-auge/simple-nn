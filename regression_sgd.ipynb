{
 "cells": [
  {
   "cell_type": "markdown",
   "metadata": {},
   "source": [
    "# Fit simple linear model using stochastic gradient descent"
   ]
  },
  {
   "cell_type": "code",
   "execution_count": 1,
   "metadata": {
    "collapsed": false,
    "deletable": true,
    "editable": true
   },
   "outputs": [],
   "source": [
    "import itertools\n",
    "import math\n",
    "import numpy as np\n",
    "import operator\n",
    "import random\n",
    "\n",
    "from matplotlib import pyplot as plt\n",
    "%matplotlib inline"
   ]
  },
  {
   "cell_type": "markdown",
   "metadata": {
    "deletable": true,
    "editable": true
   },
   "source": [
    "# Generate sample data"
   ]
  },
  {
   "cell_type": "code",
   "execution_count": 2,
   "metadata": {
    "collapsed": false,
    "deletable": true,
    "editable": true
   },
   "outputs": [],
   "source": [
    "def g(x):\n",
    "    return 7 * x + 2 + 10 * math.sin(x)\n",
    "\n",
    "g = np.vectorize(g)"
   ]
  },
  {
   "cell_type": "code",
   "execution_count": 3,
   "metadata": {
    "collapsed": true,
    "deletable": true,
    "editable": true
   },
   "outputs": [],
   "source": [
    "# Number of data points\n",
    "N = 100\n",
    "\n",
    "# Data\n",
    "x = np.random.uniform(low=-9, high=9, size=N)\n",
    "\n",
    "# Target\n",
    "y = g(x)"
   ]
  },
  {
   "cell_type": "code",
   "execution_count": 4,
   "metadata": {
    "collapsed": true,
    "deletable": true,
    "editable": true
   },
   "outputs": [],
   "source": [
    "# Linear model\n",
    "def f(w, z):\n",
    "    return np.dot(w.T, z)"
   ]
  },
  {
   "cell_type": "code",
   "execution_count": 5,
   "metadata": {
    "collapsed": true,
    "deletable": true,
    "editable": true
   },
   "outputs": [],
   "source": [
    "# Plot model predictions against data.\n",
    "# The model is linear: t -> w[0] * t + w[1].\n",
    "def plot(w, x):\n",
    "    \n",
    "    # Plot data\n",
    "    plt.plot(x, g(x), 'o')\n",
    "\n",
    "    # Get data bounds\n",
    "    x_min, x_max = min(x), max(x)\n",
    "    x_range = x_max - x_min\n",
    "\n",
    "    # Enlarge data bounds for prettier plotting\n",
    "    x_min -= 0.05 * x_range\n",
    "    x_max += 0.05 * x_range\n",
    "\n",
    "    # Model predictions for data bounds\n",
    "    y_min = f(w.T, np.array([x_min, 1]))\n",
    "    y_max = f(w.T, np.array([x_max, 1]))\n",
    "\n",
    "    # Plot model\n",
    "    plt.plot([x_min, x_max], [y_min, y_max], 'r')"
   ]
  },
  {
   "cell_type": "code",
   "execution_count": 6,
   "metadata": {
    "collapsed": false,
    "deletable": true,
    "editable": true
   },
   "outputs": [
    {
     "data": {
      "image/png": "[encoded data removed]",
      "text/plain": [
       "<Figure size 432x288 with 1 Axes>"
      ]
     },
     "metadata": {},
     "output_type": "display_data"
    }
   ],
   "source": [
    "target_weights = np.array([7, 2])\n",
    "plot(target_weights, x)"
   ]
  },
  {
   "cell_type": "markdown",
   "metadata": {
    "deletable": true,
    "editable": true
   },
   "source": [
    "## Error definition"
   ]
  },
  {
   "cell_type": "code",
   "execution_count": 7,
   "metadata": {
    "collapsed": true,
    "deletable": true,
    "editable": true
   },
   "outputs": [],
   "source": [
    "# Shape the data the right way so that intercept can be learned\n",
    "z = np.array([x, [1] * N])"
   ]
  },
  {
   "cell_type": "code",
   "execution_count": 8,
   "metadata": {
    "collapsed": true,
    "deletable": true,
    "editable": true
   },
   "outputs": [],
   "source": [
    "# Error committed by the model (relatively to the target) for a set of data points\n",
    "def residual(w, z, y):\n",
    "    return f(w, z) - y"
   ]
  },
  {
   "cell_type": "code",
   "execution_count": 9,
   "metadata": {
    "collapsed": true,
    "deletable": true,
    "editable": true
   },
   "outputs": [],
   "source": [
    "# Loss function (sum of squared errors). Error committed by the model for all data points.\n",
    "def loss(w, z, y):\n",
    "    r = residual(w, z, y)\n",
    "    return np.dot(r, r.T)"
   ]
  },
  {
   "cell_type": "markdown",
   "metadata": {
    "deletable": true,
    "editable": true
   },
   "source": [
    "**Goal:** Find `w` such that it minimizes `loss(w, z, y)`."
   ]
  },
  {
   "cell_type": "markdown",
   "metadata": {
    "deletable": true,
    "editable": true
   },
   "source": [
    "## Stochastic gradient descent algorithm"
   ]
  },
  {
   "cell_type": "markdown",
   "metadata": {
    "deletable": true,
    "editable": true
   },
   "source": [
    "Elegantly expressed using `numpy`."
   ]
  },
  {
   "cell_type": "code",
   "execution_count": 10,
   "metadata": {
    "collapsed": true,
    "deletable": true,
    "editable": true
   },
   "outputs": [],
   "source": [
    "# Gradient of the loss function\n",
    "def loss_gradient(w, z, y):\n",
    "    return 2 * residual(w, z, y) * z"
   ]
  },
  {
   "cell_type": "code",
   "execution_count": 11,
   "metadata": {
    "collapsed": true,
    "deletable": true,
    "editable": true
   },
   "outputs": [],
   "source": [
    "# Update rule\n",
    "def update(w, z, y, lr):\n",
    "    # `lr` stands for \"learning rate\"\n",
    "    return w - lr * loss_gradient(w, z, y)"
   ]
  },
  {
   "cell_type": "code",
   "execution_count": 12,
   "metadata": {
    "collapsed": true,
    "deletable": true,
    "editable": true
   },
   "outputs": [],
   "source": [
    "def sgd(z, y, initial_weights, lr):\n",
    "\n",
    "    w = initial_weights\n",
    "    \n",
    "    while True:\n",
    "        # Stochastic part of the algorithm: choose a data point at random for this iteration.\n",
    "        i = random.randint(0, N - 1)\n",
    "        w = update(w, z[:, i], y[i], lr)\n",
    "        current_loss = loss(w, z, y)\n",
    "        yield w, current_loss"
   ]
  },
  {
   "cell_type": "markdown",
   "metadata": {
    "collapsed": true,
    "deletable": true,
    "editable": true
   },
   "source": [
    "## Run the algorithm"
   ]
  },
  {
   "cell_type": "code",
   "execution_count": 13,
   "metadata": {
    "collapsed": false,
    "deletable": true,
    "editable": true
   },
   "outputs": [
    {
     "name": "stdout",
     "output_type": "stream",
     "text": [
      "step 001, loss = 124928.5309371811\n",
      "step 002, loss = 120786.1878423558\n",
      "step 003, loss = 117979.3830318594\n",
      "step 004, loss = 117600.1502133756\n",
      "step 005, loss = 117296.0697621653\n",
      "step 006, loss = 102359.4931757458\n",
      "step 007, loss = 98426.8266490303\n",
      "step 008, loss = 69374.7691384369\n",
      "step 009, loss = 66721.0851386393\n",
      "step 010, loss = 53870.5738760085\n",
      "step 020, loss = 30881.1029252110\n",
      "step 030, loss = 13379.5043215611\n",
      "step 040, loss = 6377.0122692064\n",
      "step 050, loss = 5455.3073802487\n",
      "step 060, loss = 5611.0278624412\n",
      "step 070, loss = 5363.9114632726\n",
      "step 080, loss = 5772.7856670063\n",
      "step 090, loss = 5323.2887045512\n",
      "step 100, loss = 5331.5133073692\n"
     ]
    }
   ],
   "source": [
    "# Set learning rate\n",
    "lr = 0.001\n",
    "\n",
    "# Numbers of iterations\n",
    "steps_nb = 100\n",
    "\n",
    "# Initialize weights\n",
    "w = np.array([0, 0])\n",
    "\n",
    "# Initialize algorithm\n",
    "\n",
    "current_loss = 1\n",
    "step = 0\n",
    "\n",
    "loss_history = []\n",
    "weights_history = []\n",
    "\n",
    "gen = sgd(z, y, w, lr)\n",
    "\n",
    "# Run algorithm\n",
    "\n",
    "for step in range(1, steps_nb + 1):\n",
    "\n",
    "    w, current_loss = next(gen)\n",
    "\n",
    "    weights_history.append(w)\n",
    "    loss_history.append(current_loss)\n",
    "\n",
    "    # Pretty-printing ironically requires code that is not so pretty\n",
    "    if step % 10 ** (len(str(step)) - 1) == 0 or step == steps_nb:\n",
    "        print('step %s, loss = %.10f' % (str(step).zfill(len(str(steps_nb))), current_loss))"
   ]
  },
  {
   "cell_type": "markdown",
   "metadata": {
    "collapsed": false,
    "deletable": true,
    "editable": true
   },
   "source": [
    "## Plot loss history"
   ]
  },
  {
   "cell_type": "code",
   "execution_count": 14,
   "metadata": {
    "collapsed": false,
    "deletable": true,
    "editable": true
   },
   "outputs": [
    {
     "data": {
      "image/png": "[encoded data removed]",
      "text/plain": [
       "<Figure size 432x288 with 1 Axes>"
      ]
     },
     "metadata": {},
     "output_type": "display_data"
    }
   ],
   "source": [
    "x_plot = list(range(1, len(loss_history) + 1))\n",
    "y_plot = list(loss_history)\n",
    "\n",
    "plt.plot(x_plot, y_plot)\n",
    "plt.xlabel ('step')\n",
    "plt.ylabel ('loss')\n",
    "plt.grid()\n",
    "\n",
    "plt.show()"
   ]
  },
  {
   "cell_type": "markdown",
   "metadata": {
    "deletable": true,
    "editable": true
   },
   "source": [
    "## Visualize algorithm"
   ]
  },
  {
   "cell_type": "code",
   "execution_count": 15,
   "metadata": {
    "collapsed": false,
    "deletable": true,
    "editable": true
   },
   "outputs": [
    {
     "data": {
      "text/plain": [
       "[124928.53093718109, 65125.09023679911, 35223.369886608125, 5321.649536417128]"
      ]
     },
     "execution_count": 15,
     "metadata": {},
     "output_type": "execute_result"
    }
   ],
   "source": [
    "# Find a set of steps at which to display the progression of the algorithm\n",
    "\n",
    "# Get loss bounds\n",
    "loss_min, loss_max = min(loss_history), max(loss_history)\n",
    "loss_range = loss_max - loss_min\n",
    "\n",
    "# Split loss\n",
    "selected_losses = [loss_max - r * loss_range for r in (0, 0.5, 0.75, 1)]\n",
    "selected_losses = sorted(selected_losses, reverse=True)\n",
    "\n",
    "selected_losses"
   ]
  },
  {
   "cell_type": "code",
   "execution_count": 16,
   "metadata": {
    "collapsed": false,
    "deletable": true,
    "editable": true
   },
   "outputs": [
    {
     "data": {
      "text/plain": [
       "[1, 10, 16, 91]"
      ]
     },
     "execution_count": 16,
     "metadata": {},
     "output_type": "execute_result"
    }
   ],
   "source": [
    "# Find a set strictly increasing steps for which the loss is around `selected_losses`\n",
    "\n",
    "selected_steps = []\n",
    "\n",
    "i = 0\n",
    "for step, current_loss in enumerate(loss_history):\n",
    "\n",
    "    if current_loss <= selected_losses[i]:\n",
    "        selected_steps.append(step + 1)\n",
    "        i += 1\n",
    "\n",
    "    if i >= len(selected_losses):\n",
    "        break\n",
    "\n",
    "selected_steps"
   ]
  },
  {
   "cell_type": "code",
   "execution_count": 17,
   "metadata": {
    "collapsed": false,
    "deletable": true,
    "editable": true
   },
   "outputs": [
    {
     "name": "stdout",
     "output_type": "stream",
     "text": [
      "step 1\n"
     ]
    },
    {
     "data": {
      "image/png": "[encoded data removed]",
      "text/plain": [
       "<Figure size 432x288 with 1 Axes>"
      ]
     },
     "metadata": {},
     "output_type": "display_data"
    },
    {
     "name": "stdout",
     "output_type": "stream",
     "text": [
      "step 10\n"
     ]
    },
    {
     "data": {
      "image/png": "[encoded data removed]",
      "text/plain": [
       "<Figure size 432x288 with 1 Axes>"
      ]
     },
     "metadata": {},
     "output_type": "display_data"
    },
    {
     "name": "stdout",
     "output_type": "stream",
     "text": [
      "step 16\n"
     ]
    },
    {
     "data": {
      "image/png": "[encoded data removed]",
      "text/plain": [
       "<Figure size 432x288 with 1 Axes>"
      ]
     },
     "metadata": {},
     "output_type": "display_data"
    },
    {
     "name": "stdout",
     "output_type": "stream",
     "text": [
      "step 91\n"
     ]
    },
    {
     "data": {
      "image/png": "[encoded data removed]",
      "text/plain": [
       "<Figure size 432x288 with 1 Axes>"
      ]
     },
     "metadata": {},
     "output_type": "display_data"
    }
   ],
   "source": [
    "# Visualize\n",
    "for step in selected_steps:\n",
    "    print('step %i' % (step))\n",
    "    plot(weights_history[step], x)\n",
    "    plt.show()"
   ]
  },
  {
   "cell_type": "markdown",
   "metadata": {
    "deletable": true,
    "editable": true
   },
   "source": [
    "## Re-plot loss history"
   ]
  },
  {
   "cell_type": "markdown",
   "metadata": {
    "deletable": true,
    "editable": true
   },
   "source": [
    "Highlight `selected_steps` this time"
   ]
  },
  {
   "cell_type": "code",
   "execution_count": 18,
   "metadata": {
    "collapsed": false,
    "deletable": true,
    "editable": true,
    "scrolled": true
   },
   "outputs": [
    {
     "data": {
      "image/png": "[encoded data removed]",
      "text/plain": [
       "<Figure size 432x288 with 1 Axes>"
      ]
     },
     "metadata": {},
     "output_type": "display_data"
    }
   ],
   "source": [
    "x_plot = list(range(1, len(loss_history) + 1))\n",
    "y_plot = list(loss_history)\n",
    "\n",
    "selected_losses = [loss_history[step - 1] for step in selected_steps]\n",
    "\n",
    "plt.plot(x_plot, y_plot)\n",
    "plt.plot(selected_steps, selected_losses, 'ro')\n",
    "\n",
    "plt.xlabel ('step')\n",
    "plt.ylabel ('loss')\n",
    "plt.grid()\n",
    "\n",
    "plt.show()"
   ]
  },
  {
   "cell_type": "markdown",
   "metadata": {},
   "source": [
    "## Plot weights history"
   ]
  },
  {
   "cell_type": "markdown",
   "metadata": {},
   "source": [
    "Highlight `selected_steps` as well"
   ]
  },
  {
   "cell_type": "code",
   "execution_count": 19,
   "metadata": {
    "collapsed": false,
    "deletable": true,
    "editable": true
   },
   "outputs": [
    {
     "data": {
      "image/png": "[encoded data removed]",
      "text/plain": [
       "<Figure size 432x288 with 1 Axes>"
      ]
     },
     "metadata": {},
     "output_type": "display_data"
    }
   ],
   "source": [
    "weights_y = list(map(operator.itemgetter(1), weights_history))\n",
    "weights_x = list(map(operator.itemgetter(0), weights_history))\n",
    "\n",
    "selected_weights_y = [weights_history[step][1] for step in selected_steps]\n",
    "selected_weights_x = [weights_history[step][0] for step in selected_steps]\n",
    "\n",
    "plt.plot(weights_y, weights_x)\n",
    "plt.plot(selected_weights_y, selected_weights_x, 'ro')\n",
    "\n",
    "plt.xlabel ('weight_y')\n",
    "plt.ylabel ('weight_x')\n",
    "plt.grid()\n",
    "\n",
    "plt.show()"
   ]
  },
  {
   "cell_type": "markdown",
   "metadata": {
    "collapsed": true,
    "deletable": true,
    "editable": true
   },
   "source": [
    "## References\n",
    "\n",
    "https://en.wikipedia.org/wiki/Stochastic_gradient_descent\n",
    "\n",
    "https://ml-cheatsheet.readthedocs.io/en/latest/gradient_descent.html"
   ]
  },
  {
   "cell_type": "code",
   "execution_count": null,
   "metadata": {
    "collapsed": true
   },
   "outputs": [],
   "source": []
  }
 ],
 "metadata": {
  "kernelspec": {
   "display_name": "Python 3",
   "language": "python",
   "name": "python3"
  },
  "language_info": {
   "codemirror_mode": {
    "name": "ipython",
    "version": 3
   },
   "file_extension": ".py",
   "mimetype": "text/x-python",
   "name": "python",
   "nbconvert_exporter": "python",
   "pygments_lexer": "ipython3",
   "version": "3.5.3"
  }
 },
 "nbformat": 4,
 "nbformat_minor": 2
}
