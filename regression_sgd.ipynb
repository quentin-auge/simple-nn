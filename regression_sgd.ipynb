{
 "cells": [
  {
   "cell_type": "markdown",
   "metadata": {
    "deletable": true,
    "editable": true
   },
   "source": [
    "# Fit simple linear model using stochastic gradient descent"
   ]
  },
  {
   "cell_type": "code",
   "execution_count": 1,
   "metadata": {
    "collapsed": false,
    "deletable": true,
    "editable": true
   },
   "outputs": [],
   "source": [
    "import itertools\n",
    "import math\n",
    "import numpy as np\n",
    "import operator\n",
    "import random\n",
    "\n",
    "from matplotlib import pyplot as plt\n",
    "%matplotlib inline"
   ]
  },
  {
   "cell_type": "markdown",
   "metadata": {
    "deletable": true,
    "editable": true
   },
   "source": [
    "# Generate sample data"
   ]
  },
  {
   "cell_type": "code",
   "execution_count": 2,
   "metadata": {
    "collapsed": false,
    "deletable": true,
    "editable": true
   },
   "outputs": [],
   "source": [
    "def g(x):\n",
    "    return 7 * x + 2 + 10 * math.sin(x)\n",
    "\n",
    "g = np.vectorize(g)"
   ]
  },
  {
   "cell_type": "code",
   "execution_count": 3,
   "metadata": {
    "collapsed": true,
    "deletable": true,
    "editable": true
   },
   "outputs": [],
   "source": [
    "# Number of data points\n",
    "N = 100\n",
    "\n",
    "# Data\n",
    "x = np.random.uniform(low=-9, high=9, size=N)\n",
    "\n",
    "# Target\n",
    "y = g(x)"
   ]
  },
  {
   "cell_type": "code",
   "execution_count": 4,
   "metadata": {
    "collapsed": true,
    "deletable": true,
    "editable": true
   },
   "outputs": [],
   "source": [
    "# Linear model\n",
    "def f(w, z):\n",
    "    return np.dot(w.T, z)"
   ]
  },
  {
   "cell_type": "code",
   "execution_count": 5,
   "metadata": {
    "collapsed": false,
    "deletable": true,
    "editable": true
   },
   "outputs": [
    {
     "data": {
      "image/png": "[encoded data removed]",
      "text/plain": [
       "<Figure size 432x288 with 1 Axes>"
      ]
     },
     "metadata": {},
     "output_type": "display_data"
    }
   ],
   "source": [
    "plt.plot(x, g(x), 'o')\n",
    "plt.grid()"
   ]
  },
  {
   "cell_type": "markdown",
   "metadata": {
    "deletable": true,
    "editable": true
   },
   "source": [
    "## Error definition"
   ]
  },
  {
   "cell_type": "code",
   "execution_count": 6,
   "metadata": {
    "collapsed": true,
    "deletable": true,
    "editable": true
   },
   "outputs": [],
   "source": [
    "# Shape data the right way so that intercept can be learned\n",
    "z = np.array([x, [1] * N])"
   ]
  },
  {
   "cell_type": "code",
   "execution_count": 7,
   "metadata": {
    "collapsed": true,
    "deletable": true,
    "editable": true
   },
   "outputs": [],
   "source": [
    "# Error committed by the model (relatively to the target) for a set of data points\n",
    "def residual(w, z, y):\n",
    "    return f(w, z) - y"
   ]
  },
  {
   "cell_type": "code",
   "execution_count": 8,
   "metadata": {
    "collapsed": true,
    "deletable": true,
    "editable": true
   },
   "outputs": [],
   "source": [
    "# Loss function (sum of squared errors). Error committed by the model for all data points\n",
    "def loss(w, z, y):\n",
    "    r = residual(w, z, y)\n",
    "    return np.dot(r, r.T)"
   ]
  },
  {
   "cell_type": "markdown",
   "metadata": {
    "deletable": true,
    "editable": true
   },
   "source": [
    "**Goal:** Find `w` such that it minimizes `loss(w, z, y)`."
   ]
  },
  {
   "cell_type": "markdown",
   "metadata": {
    "deletable": true,
    "editable": true
   },
   "source": [
    "## Stochastic gradient descent algorithm"
   ]
  },
  {
   "cell_type": "markdown",
   "metadata": {},
   "source": [
    "https://en.wikipedia.org/wiki/Stochastic_gradient_descent"
   ]
  },
  {
   "cell_type": "markdown",
   "metadata": {
    "deletable": true,
    "editable": true
   },
   "source": [
    "Elegantly expressed using `numpy`."
   ]
  },
  {
   "cell_type": "code",
   "execution_count": 9,
   "metadata": {
    "collapsed": true,
    "deletable": true,
    "editable": true
   },
   "outputs": [],
   "source": [
    "# Gradient of the loss function\n",
    "def loss_gradient(w, z, y):\n",
    "    return 2 * residual(w, z, y) * z"
   ]
  },
  {
   "cell_type": "code",
   "execution_count": 10,
   "metadata": {
    "collapsed": true,
    "deletable": true,
    "editable": true
   },
   "outputs": [],
   "source": [
    "# Update rule\n",
    "def update(w, z, y, lr):\n",
    "    # `lr` stands for \"learning rate\"\n",
    "    return w - lr * loss_gradient(w, z, y)"
   ]
  },
  {
   "cell_type": "code",
   "execution_count": 11,
   "metadata": {
    "collapsed": true,
    "deletable": true,
    "editable": true
   },
   "outputs": [],
   "source": [
    "def sgd(z, y, initial_weights, lr):\n",
    "\n",
    "    w = initial_weights\n",
    "    N = z.shape[1]\n",
    "\n",
    "    while True:\n",
    "\n",
    "        # Stochastic part of the algorithm: choose a data point at random for this iteration\n",
    "        i = random.randint(0, N - 1)\n",
    "\n",
    "        w = update(w, z[:, i], y[i], lr)\n",
    "        current_loss = loss(w, z, y)\n",
    "        yield w, current_loss"
   ]
  },
  {
   "cell_type": "markdown",
   "metadata": {
    "collapsed": true,
    "deletable": true,
    "editable": true
   },
   "source": [
    "## Run algorithm"
   ]
  },
  {
   "cell_type": "code",
   "execution_count": 12,
   "metadata": {
    "collapsed": false,
    "deletable": true,
    "editable": true
   },
   "outputs": [
    {
     "name": "stdout",
     "output_type": "stream",
     "text": [
      "step 001, loss = 426509.8153677856\n",
      "step 002, loss = 403570.6112935860\n",
      "step 003, loss = 402177.0878849903\n",
      "step 004, loss = 300330.1252566841\n",
      "step 005, loss = 297939.7281419850\n",
      "step 006, loss = 234944.7073266660\n",
      "step 007, loss = 231114.3858980115\n",
      "step 008, loss = 226735.7521706440\n",
      "step 009, loss = 224219.3613777476\n",
      "step 010, loss = 166936.1692684447\n",
      "step 020, loss = 88464.9862495709\n",
      "step 030, loss = 46526.8225226314\n",
      "step 040, loss = 26599.7897334328\n",
      "step 050, loss = 16475.2433912163\n",
      "step 060, loss = 10443.2368688165\n",
      "step 070, loss = 6291.0655183755\n",
      "step 080, loss = 5884.5846381265\n",
      "step 090, loss = 5724.2745881644\n",
      "step 100, loss = 5711.6394860285\n"
     ]
    }
   ],
   "source": [
    "# Set learning rate\n",
    "lr = 0.001\n",
    "\n",
    "# Numbers of iterations\n",
    "steps_nb = 100\n",
    "\n",
    "# Initialize weights\n",
    "w = np.array([-7, 2])\n",
    "\n",
    "# Initialize algorithm\n",
    "\n",
    "current_loss = 1\n",
    "step = 0\n",
    "\n",
    "loss_history = []\n",
    "weights_history = []\n",
    "\n",
    "gen = sgd(z, y, w, lr)\n",
    "\n",
    "# Run algorithm\n",
    "\n",
    "for step in range(1, steps_nb + 1):\n",
    "\n",
    "    w, current_loss = next(gen)\n",
    "\n",
    "    weights_history.append(w)\n",
    "    loss_history.append(current_loss)\n",
    "\n",
    "    # Pretty-printing ironically requires code that is not so pretty\n",
    "    if step % 10 ** (len(str(step)) - 1) == 0 or step == steps_nb:\n",
    "        print('step %s, loss = %.10f' % (str(step).zfill(len(str(steps_nb))), current_loss))"
   ]
  },
  {
   "cell_type": "markdown",
   "metadata": {
    "collapsed": false,
    "deletable": true,
    "editable": true
   },
   "source": [
    "## Plot loss history"
   ]
  },
  {
   "cell_type": "code",
   "execution_count": 13,
   "metadata": {
    "collapsed": false,
    "deletable": true,
    "editable": true
   },
   "outputs": [
    {
     "data": {
      "image/png": "[encoded data removed]",
      "text/plain": [
       "<Figure size 432x288 with 1 Axes>"
      ]
     },
     "metadata": {},
     "output_type": "display_data"
    }
   ],
   "source": [
    "x_plot = list(range(1, len(loss_history) + 1))\n",
    "y_plot = list(loss_history)\n",
    "\n",
    "plt.plot(x_plot, y_plot)\n",
    "plt.xlabel ('step')\n",
    "plt.ylabel ('loss')\n",
    "plt.grid()"
   ]
  },
  {
   "cell_type": "markdown",
   "metadata": {
    "deletable": true,
    "editable": true
   },
   "source": [
    "## Visualize algorithm"
   ]
  },
  {
   "cell_type": "code",
   "execution_count": 14,
   "metadata": {
    "collapsed": true,
    "deletable": true,
    "editable": true
   },
   "outputs": [],
   "source": [
    "# Plot model predictions against data.\n",
    "# The model is linear: t -> w[0] * t + w[1].\n",
    "def plot(w, x):\n",
    "    \n",
    "    # Plot data\n",
    "    plt.plot(x, g(x), 'o')\n",
    "\n",
    "    # Get data bounds\n",
    "    x_min, x_max = min(x), max(x)\n",
    "    x_range = x_max - x_min\n",
    "\n",
    "    # Enlarge data bounds for prettier plotting\n",
    "    x_min -= 0.05 * x_range\n",
    "    x_max += 0.05 * x_range\n",
    "\n",
    "    # Model predictions for data bounds\n",
    "    y_min = f(w.T, np.array([x_min, 1]))\n",
    "    y_max = f(w.T, np.array([x_max, 1]))\n",
    "\n",
    "    # Plot model\n",
    "    plt.plot([x_min, x_max], [y_min, y_max], 'r')\n",
    "\n",
    "    plt.grid()"
   ]
  },
  {
   "cell_type": "code",
   "execution_count": 15,
   "metadata": {
    "collapsed": false,
    "deletable": true,
    "editable": true
   },
   "outputs": [
    {
     "data": {
      "text/plain": [
       "[426509.8153677856, 216051.97363420532, 110823.05276741518, 5594.131900625071]"
      ]
     },
     "execution_count": 15,
     "metadata": {},
     "output_type": "execute_result"
    }
   ],
   "source": [
    "# Find a set of losses at which to display the progression of the algorithm\n",
    "\n",
    "# Get loss bounds\n",
    "loss_min, loss_max = min(loss_history), max(loss_history)\n",
    "loss_range = loss_max - loss_min\n",
    "\n",
    "# Split losses\n",
    "selected_losses = [loss_max - r * loss_range for r in (0, 0.5, 0.75, 1)]\n",
    "selected_losses = sorted(selected_losses, reverse=True)\n",
    "\n",
    "selected_losses"
   ]
  },
  {
   "cell_type": "code",
   "execution_count": 16,
   "metadata": {
    "collapsed": false,
    "deletable": true,
    "editable": true
   },
   "outputs": [
    {
     "data": {
      "text/plain": [
       "[1, 10, 19, 75]"
      ]
     },
     "execution_count": 16,
     "metadata": {},
     "output_type": "execute_result"
    }
   ],
   "source": [
    "# Find a set of strictly increasing steps for which the loss is around `selected_losses`\n",
    "\n",
    "selected_steps = []\n",
    "\n",
    "i = 0\n",
    "for step, current_loss in enumerate(loss_history):\n",
    "\n",
    "    if current_loss <= selected_losses[i]:\n",
    "        selected_steps.append(step + 1)\n",
    "        i += 1\n",
    "\n",
    "    if i >= len(selected_losses):\n",
    "        break\n",
    "\n",
    "# Float comparison is tricky. Make the step corresponding\n",
    "# to the lowest loss has been selected. \n",
    "if len(selected_steps) < len(selected_losses):\n",
    "    selected_steps.append(steps_nb - 1)\n",
    "\n",
    "selected_steps"
   ]
  },
  {
   "cell_type": "code",
   "execution_count": 17,
   "metadata": {
    "collapsed": false,
    "deletable": true,
    "editable": true,
    "scrolled": false
   },
   "outputs": [
    {
     "name": "stdout",
     "output_type": "stream",
     "text": [
      "step 1\n"
     ]
    },
    {
     "data": {
      "image/png": "[encoded data removed]",
      "text/plain": [
       "<Figure size 432x288 with 1 Axes>"
      ]
     },
     "metadata": {},
     "output_type": "display_data"
    },
    {
     "name": "stdout",
     "output_type": "stream",
     "text": [
      "step 10\n"
     ]
    },
    {
     "data": {
      "image/png": "[encoded data removed]",
      "text/plain": [
       "<Figure size 432x288 with 1 Axes>"
      ]
     },
     "metadata": {},
     "output_type": "display_data"
    },
    {
     "name": "stdout",
     "output_type": "stream",
     "text": [
      "step 19\n"
     ]
    },
    {
     "data": {
      "image/png": "[encoded data removed]",
      "text/plain": [
       "<Figure size 432x288 with 1 Axes>"
      ]
     },
     "metadata": {},
     "output_type": "display_data"
    },
    {
     "name": "stdout",
     "output_type": "stream",
     "text": [
      "step 75\n"
     ]
    },
    {
     "data": {
      "image/png": "[encoded data removed]",
      "text/plain": [
       "<Figure size 432x288 with 1 Axes>"
      ]
     },
     "metadata": {},
     "output_type": "display_data"
    }
   ],
   "source": [
    "# Visualize\n",
    "for step in selected_steps:\n",
    "    print('step %i' % (step))\n",
    "    plot(weights_history[step - 1], x)\n",
    "    plt.show()"
   ]
  },
  {
   "cell_type": "code",
   "execution_count": null,
   "metadata": {
    "collapsed": true,
    "deletable": true,
    "editable": true
   },
   "outputs": [],
   "source": []
  },
  {
   "cell_type": "markdown",
   "metadata": {
    "deletable": true,
    "editable": true
   },
   "source": [
    "## Re-plot loss history"
   ]
  },
  {
   "cell_type": "markdown",
   "metadata": {
    "deletable": true,
    "editable": true
   },
   "source": [
    "Highlight `selected_steps` this time"
   ]
  },
  {
   "cell_type": "code",
   "execution_count": 18,
   "metadata": {
    "collapsed": false,
    "deletable": true,
    "editable": true,
    "scrolled": true
   },
   "outputs": [
    {
     "data": {
      "image/png": "[encoded data removed]",
      "text/plain": [
       "<Figure size 432x288 with 1 Axes>"
      ]
     },
     "metadata": {},
     "output_type": "display_data"
    }
   ],
   "source": [
    "x_plot = list(range(1, len(loss_history) + 1))\n",
    "y_plot = list(loss_history)\n",
    "\n",
    "selected_losses = [loss_history[step - 1] for step in selected_steps]\n",
    "\n",
    "plt.plot(x_plot, y_plot)\n",
    "plt.plot(selected_steps, selected_losses, 'ro')\n",
    "\n",
    "plt.xlabel ('step')\n",
    "plt.ylabel ('loss')\n",
    "plt.grid()\n",
    "\n",
    "plt.show()"
   ]
  },
  {
   "cell_type": "markdown",
   "metadata": {
    "deletable": true,
    "editable": true
   },
   "source": [
    "## Plot weights history"
   ]
  },
  {
   "cell_type": "markdown",
   "metadata": {
    "deletable": true,
    "editable": true
   },
   "source": [
    "Highlight `selected_steps` as well"
   ]
  },
  {
   "cell_type": "code",
   "execution_count": 19,
   "metadata": {
    "collapsed": false,
    "deletable": true,
    "editable": true
   },
   "outputs": [
    {
     "data": {
      "image/png": "[encoded data removed]",
      "text/plain": [
       "<Figure size 432x288 with 1 Axes>"
      ]
     },
     "metadata": {},
     "output_type": "display_data"
    }
   ],
   "source": [
    "weights_y = list(map(operator.itemgetter(1), weights_history))\n",
    "weights_x = list(map(operator.itemgetter(0), weights_history))\n",
    "\n",
    "selected_weights_y = [weights_history[step][1] for step in selected_steps]\n",
    "selected_weights_x = [weights_history[step][0] for step in selected_steps]\n",
    "\n",
    "plt.plot(weights_y, weights_x)\n",
    "plt.plot(selected_weights_y, selected_weights_x, 'ro')\n",
    "\n",
    "plt.xlabel ('weight_y')\n",
    "plt.ylabel ('weight_x')\n",
    "plt.grid()\n",
    "\n",
    "plt.show()"
   ]
  },
  {
   "cell_type": "code",
   "execution_count": null,
   "metadata": {
    "collapsed": true,
    "deletable": true,
    "editable": true
   },
   "outputs": [],
   "source": []
  }
 ],
 "metadata": {
  "kernelspec": {
   "display_name": "Python 3",
   "language": "python",
   "name": "python3"
  },
  "language_info": {
   "codemirror_mode": {
    "name": "ipython",
    "version": 3
   },
   "file_extension": ".py",
   "mimetype": "text/x-python",
   "name": "python",
   "nbconvert_exporter": "python",
   "pygments_lexer": "ipython3",
   "version": "3.5.3"
  }
 },
 "nbformat": 4,
 "nbformat_minor": 2
}
