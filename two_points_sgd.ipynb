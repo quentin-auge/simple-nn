{
 "cells": [
  {
   "cell_type": "markdown",
   "metadata": {},
   "source": [
    "# Using stochastic gradient descent to fit a line through 2 points "
   ]
  },
  {
   "cell_type": "markdown",
   "metadata": {},
   "source": [
    "Yes, I'm aware it might be slightly overkill."
   ]
  },
  {
   "cell_type": "code",
   "execution_count": 15,
   "metadata": {},
   "outputs": [],
   "source": [
    "import math\n",
    "import operator\n",
    "import random\n",
    "\n",
    "import matplotlib.pyplot as plt\n",
    "%matplotlib inline"
   ]
  },
  {
   "cell_type": "markdown",
   "metadata": {},
   "source": [
    "## Data"
   ]
  },
  {
   "cell_type": "code",
   "execution_count": 16,
   "metadata": {},
   "outputs": [],
   "source": [
    "# Data\n",
    "X = [7, -3]\n",
    "\n",
    "# Number of data points\n",
    "N = len(X)\n",
    "\n",
    "# Data dimension\n",
    "d = 1\n",
    "\n",
    "# Target\n",
    "Y = [2, 4]"
   ]
  },
  {
   "cell_type": "code",
   "execution_count": 17,
   "metadata": {},
   "outputs": [
    {
     "data": {
      "text/plain": [
       "[(7, 2), (-3, 4)]"
      ]
     },
     "execution_count": 17,
     "metadata": {},
     "output_type": "execute_result"
    }
   ],
   "source": [
    "# Our two points\n",
    "list(zip(X, Y))"
   ]
  },
  {
   "cell_type": "markdown",
   "metadata": {},
   "source": [
    "## Model and error definition"
   ]
  },
  {
   "cell_type": "code",
   "execution_count": 18,
   "metadata": {},
   "outputs": [],
   "source": [
    "# Linear model\n",
    "def f(w, x):\n",
    "\n",
    "    # `w` stands for \"weights\".\n",
    "    \n",
    "    # Let w = [a, b]. Return f(x) = a * x + b\n",
    "    # Hence, f(x) = a * x + b * 1\n",
    "    # Let z = [x, 1], then f(x) = a * z[0] + b * z[1]\n",
    "    # Or, f(x) = w[0] * z[0] + w[1] * z[1]\n",
    "\n",
    "    z = (x, 1)\n",
    "    return sum(w[j] * z[j] for j in range(d + 1))\n",
    "\n",
    "# Error committed by the model (relatively to the target) for a given data point\n",
    "def residual(w, x, y):\n",
    "    return f(w, x) - y\n",
    "\n",
    "# Loss function (mean squared error). Error committed by the model for all data points.\n",
    "def loss(w, X, Y):\n",
    "    return sum(residual(w, X[i], Y[i]) ** 2 for i in range(N))"
   ]
  },
  {
   "cell_type": "markdown",
   "metadata": {},
   "source": [
    "## Objective: find w such that it minimizes loss(w, X, Y)"
   ]
  },
  {
   "cell_type": "code",
   "execution_count": 19,
   "metadata": {},
   "outputs": [],
   "source": [
    "# Gradient of the loss function\n",
    "def loss_gradient(w, x, y):\n",
    "    z = (x, 1)\n",
    "    return [2 * z[j] * residual(w, x, y) for j in range(d + 1)]\n",
    "\n",
    "# Update rule for weights\n",
    "def update(w, x, y, lr):\n",
    "    # `lr` stands for \"learning rate\"\n",
    "    grad = loss_gradient(w, x, y)\n",
    "    updated_w = [w[j] - lr * grad[j] for j in range(d + 1)]\n",
    "    return updated_w"
   ]
  },
  {
   "cell_type": "markdown",
   "metadata": {},
   "source": [
    "## Stochastic gradient descent algorithm"
   ]
  },
  {
   "cell_type": "code",
   "execution_count": 20,
   "metadata": {},
   "outputs": [],
   "source": [
    "def sgd(X, Y, d, initial_weights, lr):\n",
    "\n",
    "    w = initial_weights\n",
    "    \n",
    "    while True:\n",
    "        # Stochastic part of the algorithm: choose a data point at random for this iteration.\n",
    "        i = random.randint(0, d)\n",
    "        x, y = X[i], Y[i]\n",
    "\n",
    "        # Update weights\n",
    "        w = update(w, x, y, lr)\n",
    "\n",
    "        # Hopefully, loss decreased compared to previous iteration\n",
    "        current_loss = loss(w, X, Y)\n",
    "        \n",
    "        yield w, current_loss"
   ]
  },
  {
   "cell_type": "markdown",
   "metadata": {},
   "source": [
    "## Run the algorithm"
   ]
  },
  {
   "cell_type": "code",
   "execution_count": 21,
   "metadata": {},
   "outputs": [
    {
     "name": "stdout",
     "output_type": "stream",
     "text": [
      "step 001, loss = 23.0400000000\n",
      "step 002, loss = 23.0400000000\n",
      "step 003, loss = 23.0400000000\n",
      "step 004, loss = 18.4320000000\n",
      "step 005, loss = 21.3811200000\n",
      "step 006, loss = 27.9871488000\n",
      "step 007, loss = 35.9898808320\n",
      "step 008, loss = 17.9201177027\n",
      "step 009, loss = 14.3360941621\n",
      "step 010, loss = 16.6298692281\n",
      "step 020, loss = 37.0975691287\n",
      "step 030, loss = 8.3639705028\n",
      "step 040, loss = 5.0216116000\n",
      "step 050, loss = 3.4322387471\n",
      "step 060, loss = 3.1599040648\n",
      "step 070, loss = 2.1165485413\n",
      "step 080, loss = 1.4638997565\n",
      "step 090, loss = 0.9395987281\n",
      "step 100, loss = 0.6498685584\n",
      "step 200, loss = 0.0277658470\n",
      "step 300, loss = 0.0011521668\n",
      "step 400, loss = 0.0000209225\n",
      "step 500, loss = 0.0000028149\n",
      "step 600, loss = 0.0000000202\n",
      "step 620, loss = 0.0000000094\n"
     ]
    }
   ],
   "source": [
    "# Set learning rate\n",
    "lr = 0.01\n",
    "\n",
    "# Stop when loss is small enough\n",
    "min_loss = 1e-8\n",
    "\n",
    "# Alternatively, stop when a given number of steps is reached (in case the algorithm is diverging)\n",
    "max_steps = 1000\n",
    "\n",
    "# Initialize weights\n",
    "weights = [0, 0]\n",
    "\n",
    "# Initialize algorithm\n",
    "\n",
    "current_loss = 1\n",
    "step = 0\n",
    "\n",
    "loss_history = []\n",
    "weights_history = []\n",
    "\n",
    "gen = sgd(X, Y, d, weights, lr)\n",
    "\n",
    "# Run algorithm\n",
    "\n",
    "while current_loss > min_loss and step < max_steps:\n",
    "\n",
    "    weights, current_loss = next(gen)\n",
    "\n",
    "    weights_history.append(weights)\n",
    "    loss_history.append(current_loss)\n",
    "\n",
    "    step += 1\n",
    "\n",
    "    # Pretty-printing ironically requires code that is not so pretty\n",
    "    if step % 10 ** (len(str(step)) - 1) == 0 or step == max_steps or current_loss < min_loss:\n",
    "        print('step %s, loss = %.10f' % (str(step).zfill(len(str(max_steps)) - 1), current_loss))"
   ]
  },
  {
   "cell_type": "code",
   "execution_count": 22,
   "metadata": {},
   "outputs": [
    {
     "data": {
      "text/plain": [
       "[-0.19999565852994736, 3.3999261950091055]"
      ]
     },
     "execution_count": 22,
     "metadata": {},
     "output_type": "execute_result"
    }
   ],
   "source": [
    "# Final weights\n",
    "weights"
   ]
  },
  {
   "cell_type": "markdown",
   "metadata": {},
   "source": [
    "## Check that the model is actually right"
   ]
  },
  {
   "cell_type": "code",
   "execution_count": 23,
   "metadata": {},
   "outputs": [
    {
     "name": "stdout",
     "output_type": "stream",
     "text": [
      "f(7) = 1.999956585299474 ≈ 2\n",
      "f(-3) = 3.9999131705989477 ≈ 4\n"
     ]
    }
   ],
   "source": [
    "for i in range(N):\n",
    "    x, y = X[i], Y[i]\n",
    "    print('f({x}) = {result} ≈ {y}'.format(x=X[i], result=f(weights, x), y=y))"
   ]
  },
  {
   "cell_type": "markdown",
   "metadata": {},
   "source": [
    "## Plot loss history"
   ]
  },
  {
   "cell_type": "code",
   "execution_count": 24,
   "metadata": {},
   "outputs": [
    {
     "data": {
      "image/png": "[encoded data removed]",
      "text/plain": [
       "<Figure size 432x288 with 1 Axes>"
      ]
     },
     "metadata": {
      "needs_background": "light"
     },
     "output_type": "display_data"
    }
   ],
   "source": [
    "x_plot = list(range(1, len(loss_history) + 1))\n",
    "y_plot = list(loss_history)\n",
    "\n",
    "plt.plot(x_plot, y_plot)\n",
    "plt.xlabel ('step')\n",
    "plt.ylabel ('loss')\n",
    "plt.grid()\n",
    "\n",
    "plt.show()"
   ]
  },
  {
   "cell_type": "markdown",
   "metadata": {},
   "source": [
    "## Plot weights history"
   ]
  },
  {
   "cell_type": "code",
   "execution_count": 26,
   "metadata": {},
   "outputs": [
    {
     "data": {
      "image/png": "[encoded data removed]",
      "text/plain": [
       "<Figure size 432x288 with 1 Axes>"
      ]
     },
     "metadata": {
      "needs_background": "light"
     },
     "output_type": "display_data"
    }
   ],
   "source": [
    "x_plot = list(map(operator.itemgetter(1), weights_history))\n",
    "y_plot = list(map(operator.itemgetter(0), weights_history))\n",
    "\n",
    "plt.plot(x_plot, y_plot)\n",
    "plt.xlabel ('weight_y')\n",
    "plt.ylabel ('weight_x')\n",
    "plt.grid()\n",
    "\n",
    "plt.show()"
   ]
  },
  {
   "cell_type": "markdown",
   "metadata": {},
   "source": [
    "## References\n",
    "\n",
    "https://en.wikipedia.org/wiki/Stochastic_gradient_descent\n",
    "\n",
    "https://ml-cheatsheet.readthedocs.io/en/latest/gradient_descent.html"
   ]
  },
  {
   "cell_type": "code",
   "execution_count": null,
   "metadata": {},
   "outputs": [],
   "source": []
  },
  {
   "cell_type": "code",
   "execution_count": null,
   "metadata": {},
   "outputs": [],
   "source": []
  }
 ],
 "metadata": {
  "kernelspec": {
   "display_name": "Python 3",
   "language": "python",
   "name": "python3"
  },
  "language_info": {
   "codemirror_mode": {
    "name": "ipython",
    "version": 3
   },
   "file_extension": ".py",
   "mimetype": "text/x-python",
   "name": "python",
   "nbconvert_exporter": "python",
   "pygments_lexer": "ipython3",
   "version": "3.7.0"
  }
 },
 "nbformat": 4,
 "nbformat_minor": 2
}
