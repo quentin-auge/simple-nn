{
 "cells": [
  {
   "cell_type": "markdown",
   "metadata": {
    "deletable": true,
    "editable": true
   },
   "source": [
    "# Using stochastic gradient descent to fit a line through 2 points "
   ]
  },
  {
   "cell_type": "markdown",
   "metadata": {
    "deletable": true,
    "editable": true
   },
   "source": [
    "Yes, I'm aware it might be slightly overkill."
   ]
  },
  {
   "cell_type": "code",
   "execution_count": 1,
   "metadata": {
    "collapsed": true,
    "deletable": true,
    "editable": true
   },
   "outputs": [],
   "source": [
    "import math\n",
    "import operator\n",
    "import random\n",
    "\n",
    "import matplotlib.pyplot as plt\n",
    "%matplotlib inline"
   ]
  },
  {
   "cell_type": "markdown",
   "metadata": {
    "deletable": true,
    "editable": true
   },
   "source": [
    "## Data"
   ]
  },
  {
   "cell_type": "code",
   "execution_count": 2,
   "metadata": {
    "collapsed": true,
    "deletable": true,
    "editable": true
   },
   "outputs": [],
   "source": [
    "# Data\n",
    "X = [7, -3]\n",
    "\n",
    "# Number of data points\n",
    "N = len(X)\n",
    "\n",
    "# Data dimension\n",
    "d = 1\n",
    "\n",
    "# Target\n",
    "Y = [2, 4]"
   ]
  },
  {
   "cell_type": "code",
   "execution_count": 3,
   "metadata": {
    "collapsed": false,
    "deletable": true,
    "editable": true
   },
   "outputs": [
    {
     "data": {
      "text/plain": [
       "[(7, 2), (-3, 4)]"
      ]
     },
     "execution_count": 3,
     "metadata": {},
     "output_type": "execute_result"
    }
   ],
   "source": [
    "# Our two points\n",
    "list(zip(X, Y))"
   ]
  },
  {
   "cell_type": "markdown",
   "metadata": {
    "deletable": true,
    "editable": true
   },
   "source": [
    "## Model and Error definition"
   ]
  },
  {
   "cell_type": "code",
   "execution_count": 4,
   "metadata": {
    "collapsed": true,
    "deletable": true,
    "editable": true
   },
   "outputs": [],
   "source": [
    "# Linear model\n",
    "def f(w, x):\n",
    "\n",
    "    # `w` stands for \"weights\".\n",
    "    \n",
    "    # Let w = [a, b]. Return f(x) = a * x + b\n",
    "    # Hence, f(x) = a * x + b * 1\n",
    "    # Let z = [x, 1], then f(x) = a * z[0] + b * z[1]\n",
    "    # Or, f(x) = w[0] * z[0] + w[1] * z[1]\n",
    "\n",
    "    z = (x, 1)\n",
    "    return sum(w[j] * z[j] for j in range(d + 1))"
   ]
  },
  {
   "cell_type": "code",
   "execution_count": 5,
   "metadata": {
    "collapsed": true,
    "deletable": true,
    "editable": true
   },
   "outputs": [],
   "source": [
    "# Error committed by the model (relatively to the target) for a given data point\n",
    "def residual(w, x, y):\n",
    "    return f(w, x) - y\n",
    "\n",
    "# Loss function (sum of squared errors). Error committed by the model for all data points.\n",
    "def loss(w, X, Y):\n",
    "    return sum(residual(w, X[i], Y[i]) ** 2 for i in range(N))"
   ]
  },
  {
   "cell_type": "markdown",
   "metadata": {
    "deletable": true,
    "editable": true
   },
   "source": [
    "**Goal:** Find `w` such that it minimizes `loss(w, X, Y)`."
   ]
  },
  {
   "cell_type": "markdown",
   "metadata": {
    "deletable": true,
    "editable": true
   },
   "source": [
    "## Stochastic gradient descent algorithm"
   ]
  },
  {
   "cell_type": "markdown",
   "metadata": {},
   "source": [
    "https://ml-cheatsheet.readthedocs.io/en/latest/gradient_descent.html"
   ]
  },
  {
   "cell_type": "code",
   "execution_count": 6,
   "metadata": {
    "collapsed": true,
    "deletable": true,
    "editable": true
   },
   "outputs": [],
   "source": [
    "# Gradient of the loss function\n",
    "def loss_gradient(w, x, y):\n",
    "    z = (x, 1)\n",
    "    return [2 * z[j] * residual(w, x, y) for j in range(d + 1)]\n",
    "\n",
    "# Update rule for weights\n",
    "def update(w, x, y, lr):\n",
    "    # `lr` stands for \"learning rate\"\n",
    "    grad = loss_gradient(w, x, y)\n",
    "    updated_w = [w[j] - lr * grad[j] for j in range(d + 1)]\n",
    "    return updated_w"
   ]
  },
  {
   "cell_type": "code",
   "execution_count": 7,
   "metadata": {
    "collapsed": true,
    "deletable": true,
    "editable": true
   },
   "outputs": [],
   "source": [
    "def sgd(X, Y, initial_weights, lr):\n",
    "\n",
    "    w = initial_weights\n",
    "    \n",
    "    while True:\n",
    "        # Stochastic part of the algorithm: choose a data point at random for this iteration.\n",
    "        i = random.randint(0, N - 1)\n",
    "        x, y = X[i], Y[i]\n",
    "\n",
    "        # Update weights\n",
    "        w = update(w, x, y, lr)\n",
    "\n",
    "        # Hopefully, loss decreased compared to previous iteration\n",
    "        current_loss = loss(w, X, Y)\n",
    "        \n",
    "        yield w, current_loss"
   ]
  },
  {
   "cell_type": "markdown",
   "metadata": {
    "deletable": true,
    "editable": true
   },
   "source": [
    "## Run algorithm"
   ]
  },
  {
   "cell_type": "markdown",
   "metadata": {},
   "source": [
    "https://en.wikipedia.org/wiki/Stochastic_gradient_descent"
   ]
  },
  {
   "cell_type": "code",
   "execution_count": 8,
   "metadata": {
    "collapsed": false,
    "deletable": true,
    "editable": true
   },
   "outputs": [
    {
     "name": "stdout",
     "output_type": "stream",
     "text": [
      "step 001, loss = 23.0400000000\n",
      "step 002, loss = 18.4320000000\n",
      "step 003, loss = 21.2336640000\n",
      "step 004, loss = 16.9869312000\n",
      "step 005, loss = 19.5689447424\n",
      "step 006, loss = 15.6551557939\n",
      "step 007, loss = 18.1599807209\n",
      "step 008, loss = 16.8524621090\n",
      "step 009, loss = 16.8524621090\n",
      "step 010, loss = 13.4819696872\n",
      "step 020, loss = 10.7912997324\n",
      "step 030, loss = 6.8517602934\n",
      "step 040, loss = 4.5883956098\n",
      "step 050, loss = 3.4638649134\n",
      "step 060, loss = 2.5336220575\n",
      "step 070, loss = 2.0108526594\n",
      "step 080, loss = 1.1766603559\n",
      "step 090, loss = 0.8882827176\n",
      "step 100, loss = 0.5037402135\n",
      "step 200, loss = 0.0158897351\n",
      "step 300, loss = 0.0007820327\n",
      "step 400, loss = 0.0000110791\n",
      "step 500, loss = 0.0000003437\n",
      "step 600, loss = 0.0000000110\n"
     ]
    }
   ],
   "source": [
    "# Set learning rate\n",
    "lr = 0.01\n",
    "\n",
    "# Stop when loss is small enough\n",
    "min_loss = 1e-8\n",
    "\n",
    "# Alternatively, stop when a given number of steps is reached (in case the algorithm is diverging)\n",
    "max_steps = 600\n",
    "\n",
    "# Initialize weights\n",
    "weights = [0, 0]\n",
    "\n",
    "# Initialize algorithm\n",
    "\n",
    "current_loss = 1\n",
    "step = 0\n",
    "\n",
    "loss_history = []\n",
    "weights_history = []\n",
    "\n",
    "gen = sgd(X, Y, weights, lr)\n",
    "\n",
    "# Run algorithm\n",
    "\n",
    "while current_loss > min_loss and step < max_steps:\n",
    "\n",
    "    weights, current_loss = next(gen)\n",
    "\n",
    "    weights_history.append(weights)\n",
    "    loss_history.append(current_loss)\n",
    "\n",
    "    step += 1\n",
    "\n",
    "    # Pretty-printing ironically requires code that is not so pretty\n",
    "    if step % 10 ** (len(str(step)) - 1) == 0 or step == max_steps or current_loss < min_loss:\n",
    "        print('step %s, loss = %.10f' % (str(step).zfill(len(str(max_steps))), current_loss))"
   ]
  },
  {
   "cell_type": "code",
   "execution_count": 9,
   "metadata": {
    "collapsed": false,
    "deletable": true,
    "editable": true
   },
   "outputs": [
    {
     "data": {
      "text/plain": [
       "[-0.19998952078257243, 3.399926645478007]"
      ]
     },
     "execution_count": 9,
     "metadata": {},
     "output_type": "execute_result"
    }
   ],
   "source": [
    "# Final weights\n",
    "weights"
   ]
  },
  {
   "cell_type": "markdown",
   "metadata": {
    "deletable": true,
    "editable": true
   },
   "source": [
    "## Check that the model is actually right"
   ]
  },
  {
   "cell_type": "code",
   "execution_count": 10,
   "metadata": {
    "collapsed": false,
    "deletable": true,
    "editable": true
   },
   "outputs": [
    {
     "name": "stdout",
     "output_type": "stream",
     "text": [
      "f(7) = 1.9999999999999998 ≈ 2\n",
      "f(-3) = 3.999895207825724 ≈ 4\n"
     ]
    }
   ],
   "source": [
    "for i in range(N):\n",
    "    x, y = X[i], Y[i]\n",
    "    print('f({x}) = {result} ≈ {y}'.format(x=X[i], result=f(weights, x), y=y))"
   ]
  },
  {
   "cell_type": "markdown",
   "metadata": {
    "deletable": true,
    "editable": true
   },
   "source": [
    "## Plot loss history"
   ]
  },
  {
   "cell_type": "code",
   "execution_count": 11,
   "metadata": {
    "collapsed": false,
    "deletable": true,
    "editable": true
   },
   "outputs": [
    {
     "data": {
      "image/png": "[encoded data removed]",
      "text/plain": [
       "<Figure size 432x288 with 1 Axes>"
      ]
     },
     "metadata": {},
     "output_type": "display_data"
    }
   ],
   "source": [
    "x_plot = list(range(1, len(loss_history) + 1))\n",
    "y_plot = list(loss_history)\n",
    "\n",
    "plt.plot(x_plot, y_plot)\n",
    "plt.xlabel ('step')\n",
    "plt.ylabel ('loss')\n",
    "plt.grid()\n",
    "\n",
    "plt.show()"
   ]
  },
  {
   "cell_type": "markdown",
   "metadata": {
    "deletable": true,
    "editable": true
   },
   "source": [
    "## Plot weights history"
   ]
  },
  {
   "cell_type": "code",
   "execution_count": 12,
   "metadata": {
    "collapsed": false,
    "deletable": true,
    "editable": true
   },
   "outputs": [
    {
     "data": {
      "image/png": "[encoded data removed]",
      "text/plain": [
       "<Figure size 432x288 with 1 Axes>"
      ]
     },
     "metadata": {},
     "output_type": "display_data"
    }
   ],
   "source": [
    "x_plot = list(map(operator.itemgetter(1), weights_history))\n",
    "y_plot = list(map(operator.itemgetter(0), weights_history))\n",
    "\n",
    "plt.plot(x_plot, y_plot)\n",
    "plt.xlabel ('weight_y')\n",
    "plt.ylabel ('weight_x')\n",
    "plt.grid()\n",
    "\n",
    "plt.show()"
   ]
  },
  {
   "cell_type": "code",
   "execution_count": null,
   "metadata": {
    "collapsed": true,
    "deletable": true,
    "editable": true
   },
   "outputs": [],
   "source": []
  }
 ],
 "metadata": {
  "kernelspec": {
   "display_name": "Python 3",
   "language": "python",
   "name": "python3"
  },
  "language_info": {
   "codemirror_mode": {
    "name": "ipython",
    "version": 3
   },
   "file_extension": ".py",
   "mimetype": "text/x-python",
   "name": "python",
   "nbconvert_exporter": "python",
   "pygments_lexer": "ipython3",
   "version": "3.5.3"
  }
 },
 "nbformat": 4,
 "nbformat_minor": 2
}
